{
  "nbformat": 4,
  "nbformat_minor": 0,
  "metadata": {
    "kernelspec": {
      "display_name": "Python 3",
      "language": "python",
      "name": "python3"
    },
    "language_info": {
      "codemirror_mode": {
        "name": "ipython",
        "version": 3
      },
      "file_extension": ".py",
      "mimetype": "text/x-python",
      "name": "python",
      "nbconvert_exporter": "python",
      "pygments_lexer": "ipython3",
      "version": "3.8.3"
    },
    "colab": {
      "name": "Classifying_News_Articles.ipynb",
      "provenance": [],
      "include_colab_link": true
    }
  },
  "cells": [
    {
      "cell_type": "markdown",
      "metadata": {
        "id": "view-in-github",
        "colab_type": "text"
      },
      "source": [
        "<a href=\"https://colab.research.google.com/github/california-19/Classifying_News_Articles/blob/main/Classifying_News_Articles.ipynb\" target=\"_parent\"><img src=\"https://colab.research.google.com/assets/colab-badge.svg\" alt=\"Open In Colab\"/></a>"
      ]
    },
    {
      "cell_type": "code",
      "metadata": {
        "id": "MikcvyEyb7zx"
      },
      "source": [
        "import webhoseio\n",
        "import datetime as dt\n",
        "import pandas as pd"
      ],
      "execution_count": null,
      "outputs": []
    },
    {
      "cell_type": "code",
      "metadata": {
        "id": "O8AA4TNyb70C"
      },
      "source": [
        "# You have to write your own key here.\n",
        "my_key = my_key"
      ],
      "execution_count": null,
      "outputs": []
    },
    {
      "cell_type": "code",
      "metadata": {
        "id": "lSAyzQn4b70G"
      },
      "source": [
        "webhoseio.config(token=my_key)"
      ],
      "execution_count": null,
      "outputs": []
    },
    {
      "cell_type": "code",
      "metadata": {
        "id": "uUE6XxKMb70H"
      },
      "source": [
        "# The code assumes that there is an existing output file with prior search results.\n",
        "# If it is your first time running, create an output file with columns 'text', 'site' and 'key_words'\n",
        "output = pd.read_csv('output.csv')"
      ],
      "execution_count": null,
      "outputs": []
    },
    {
      "cell_type": "code",
      "metadata": {
        "id": "La8zSPIWb70I",
        "outputId": "1982e752-9246-419e-8bbe-955f29dccd99"
      },
      "source": [
        "output"
      ],
      "execution_count": null,
      "outputs": [
        {
          "output_type": "execute_result",
          "data": {
            "text/html": [
              "<div>\n",
              "<style scoped>\n",
              "    .dataframe tbody tr th:only-of-type {\n",
              "        vertical-align: middle;\n",
              "    }\n",
              "\n",
              "    .dataframe tbody tr th {\n",
              "        vertical-align: top;\n",
              "    }\n",
              "\n",
              "    .dataframe thead th {\n",
              "        text-align: right;\n",
              "    }\n",
              "</style>\n",
              "<table border=\"1\" class=\"dataframe\">\n",
              "  <thead>\n",
              "    <tr style=\"text-align: right;\">\n",
              "      <th></th>\n",
              "      <th>text</th>\n",
              "      <th>site</th>\n",
              "      <th>key_words</th>\n",
              "    </tr>\n",
              "  </thead>\n",
              "  <tbody>\n",
              "    <tr>\n",
              "      <th>0</th>\n",
              "      <td>(CNN) Connecticut officials are expressing the...</td>\n",
              "      <td>cnn.com</td>\n",
              "      <td>atlanta shooting</td>\n",
              "    </tr>\n",
              "    <tr>\n",
              "      <th>1</th>\n",
              "      <td>(CNN) The horror began in the parking lot.\\nA ...</td>\n",
              "      <td>cnn.com</td>\n",
              "      <td>atlanta shooting</td>\n",
              "    </tr>\n",
              "    <tr>\n",
              "      <th>2</th>\n",
              "      <td>New York (CNN Business) After mass shootings i...</td>\n",
              "      <td>cnn.com</td>\n",
              "      <td>atlanta shooting</td>\n",
              "    </tr>\n",
              "    <tr>\n",
              "      <th>3</th>\n",
              "      <td>10 killed in Colorado grocery store shooting B...</td>\n",
              "      <td>cnn.com</td>\n",
              "      <td>atlanta shooting</td>\n",
              "    </tr>\n",
              "    <tr>\n",
              "      <th>4</th>\n",
              "      <td>(CNN) Golden State Warriors head coach Steve K...</td>\n",
              "      <td>cnn.com</td>\n",
              "      <td>atlanta shooting</td>\n",
              "    </tr>\n",
              "    <tr>\n",
              "      <th>5</th>\n",
              "      <td>(CNN) — Rep. Jason Crow is urging Congress to ...</td>\n",
              "      <td>cnn.com</td>\n",
              "      <td>atlanta shooting</td>\n",
              "    </tr>\n",
              "    <tr>\n",
              "      <th>6</th>\n",
              "      <td>(CNN) — Democratic voters in Georgia may have ...</td>\n",
              "      <td>cnn.com</td>\n",
              "      <td>atlanta shooting</td>\n",
              "    </tr>\n",
              "    <tr>\n",
              "      <th>7</th>\n",
              "      <td>(CNN) The White House is weighing whether to i...</td>\n",
              "      <td>cnn.com</td>\n",
              "      <td>atlanta shooting</td>\n",
              "    </tr>\n",
              "    <tr>\n",
              "      <th>8</th>\n",
              "      <td>(CNN) A man armed with a rifle entered an Atla...</td>\n",
              "      <td>cnn.com</td>\n",
              "      <td>atlanta shooting</td>\n",
              "    </tr>\n",
              "    <tr>\n",
              "      <th>9</th>\n",
              "      <td>Jess Huang is a communications specialist who ...</td>\n",
              "      <td>cnn.com</td>\n",
              "      <td>atlanta shooting</td>\n",
              "    </tr>\n",
              "    <tr>\n",
              "      <th>10</th>\n",
              "      <td>(CNN) — President Joe Biden on Tuesday used th...</td>\n",
              "      <td>cnn.com</td>\n",
              "      <td>atlanta shooting</td>\n",
              "    </tr>\n",
              "    <tr>\n",
              "      <th>11</th>\n",
              "      <td>(CNN) A federal appeals court on Wednesday rul...</td>\n",
              "      <td>cnn.com</td>\n",
              "      <td>atlanta shooting</td>\n",
              "    </tr>\n",
              "    <tr>\n",
              "      <th>12</th>\n",
              "      <td>(CNN) Colorado Sen. Michael Bennet on Wednesda...</td>\n",
              "      <td>cnn.com</td>\n",
              "      <td>atlanta shooting</td>\n",
              "    </tr>\n",
              "    <tr>\n",
              "      <th>13</th>\n",
              "      <td>(CNN) President Joe Biden's first two months i...</td>\n",
              "      <td>cnn.com</td>\n",
              "      <td>atlanta shooting</td>\n",
              "    </tr>\n",
              "    <tr>\n",
              "      <th>14</th>\n",
              "      <td>David Axelrod, a senior CNN political commenta...</td>\n",
              "      <td>cnn.com</td>\n",
              "      <td>atlanta shooting</td>\n",
              "    </tr>\n",
              "    <tr>\n",
              "      <th>15</th>\n",
              "      <td>(CNN) — Several Asian American members of Cong...</td>\n",
              "      <td>cnn.com</td>\n",
              "      <td>atlanta shooting</td>\n",
              "    </tr>\n",
              "    <tr>\n",
              "      <th>16</th>\n",
              "      <td>(CNN) A defense attorney for the man charged w...</td>\n",
              "      <td>cnn.com</td>\n",
              "      <td>atlanta shooting</td>\n",
              "    </tr>\n",
              "    <tr>\n",
              "      <th>17</th>\n",
              "      <td>(CNN) Claudia Choi says that after her father ...</td>\n",
              "      <td>cnn.com</td>\n",
              "      <td>atlanta shooting</td>\n",
              "    </tr>\n",
              "    <tr>\n",
              "      <th>18</th>\n",
              "      <td>(CNN) — President Joe Biden and Vice President...</td>\n",
              "      <td>cnn.com</td>\n",
              "      <td>atlanta shooting</td>\n",
              "    </tr>\n",
              "    <tr>\n",
              "      <th>19</th>\n",
              "      <td>(CNN) President Joe Biden is holding his first...</td>\n",
              "      <td>cnn.com</td>\n",
              "      <td>atlanta shooting</td>\n",
              "    </tr>\n",
              "    <tr>\n",
              "      <th>20</th>\n",
              "      <td>(CNN) — President Joe Biden on Friday condemne...</td>\n",
              "      <td>cnn.com</td>\n",
              "      <td>atlanta shooting</td>\n",
              "    </tr>\n",
              "    <tr>\n",
              "      <th>21</th>\n",
              "      <td>(CNN) — President Joe Biden has ordered the Am...</td>\n",
              "      <td>cnn.com</td>\n",
              "      <td>atlanta shooting</td>\n",
              "    </tr>\n",
              "    <tr>\n",
              "      <th>22</th>\n",
              "      <td>(CNN) Former late night talk show host Jay Len...</td>\n",
              "      <td>cnn.com</td>\n",
              "      <td>atlanta shooting</td>\n",
              "    </tr>\n",
              "    <tr>\n",
              "      <th>23</th>\n",
              "      <td>Peniel E. Joseph is the Barbara Jordan chair i...</td>\n",
              "      <td>cnn.com</td>\n",
              "      <td>atlanta shooting</td>\n",
              "    </tr>\n",
              "    <tr>\n",
              "      <th>24</th>\n",
              "      <td>(CNN) — President Joe Biden will meet with Sta...</td>\n",
              "      <td>cnn.com</td>\n",
              "      <td>atlanta shooting</td>\n",
              "    </tr>\n",
              "    <tr>\n",
              "      <th>25</th>\n",
              "      <td>(CNN) — President Joe Biden and Vice President...</td>\n",
              "      <td>cnn.com</td>\n",
              "      <td>atlanta shooting</td>\n",
              "    </tr>\n",
              "    <tr>\n",
              "      <th>26</th>\n",
              "      <td>(CNN) — This week, the surge of unaccompanied ...</td>\n",
              "      <td>cnn.com</td>\n",
              "      <td>atlanta shooting</td>\n",
              "    </tr>\n",
              "    <tr>\n",
              "      <th>27</th>\n",
              "      <td>(CNN) — These sad truths about mass shootings ...</td>\n",
              "      <td>cnn.com</td>\n",
              "      <td>atlanta shooting</td>\n",
              "    </tr>\n",
              "    <tr>\n",
              "      <th>28</th>\n",
              "      <td>(CNN) — A day after the seventh mass shooting ...</td>\n",
              "      <td>cnn.com</td>\n",
              "      <td>atlanta shooting</td>\n",
              "    </tr>\n",
              "    <tr>\n",
              "      <th>29</th>\n",
              "      <td>Roxanne Jones , a founding editor of ESPN Maga...</td>\n",
              "      <td>cnn.com</td>\n",
              "      <td>atlanta shooting</td>\n",
              "    </tr>\n",
              "    <tr>\n",
              "      <th>30</th>\n",
              "      <td>Dominion Voting Systems files $1.6 billion law...</td>\n",
              "      <td>cnn.com</td>\n",
              "      <td>atlanta shooting</td>\n",
              "    </tr>\n",
              "    <tr>\n",
              "      <th>31</th>\n",
              "      <td>(CNN) — Former Transportation Secretary Elaine...</td>\n",
              "      <td>cnn.com</td>\n",
              "      <td>atlanta shooting</td>\n",
              "    </tr>\n",
              "    <tr>\n",
              "      <th>32</th>\n",
              "      <td>(CNN) — Sen. Joe Manchin, a centrist Democrat ...</td>\n",
              "      <td>cnn.com</td>\n",
              "      <td>atlanta shooting</td>\n",
              "    </tr>\n",
              "    <tr>\n",
              "      <th>33</th>\n",
              "      <td>(CNN) An Instacart shopper who entered an Atla...</td>\n",
              "      <td>cnn.com</td>\n",
              "      <td>atlanta shooting</td>\n",
              "    </tr>\n",
              "    <tr>\n",
              "      <th>34</th>\n",
              "      <td>Watch \"AFRAID: Fear in Communities of Color\" a...</td>\n",
              "      <td>cnn.com</td>\n",
              "      <td>atlanta shooting</td>\n",
              "    </tr>\n",
              "    <tr>\n",
              "      <th>35</th>\n",
              "      <td>(CNN) Xiaojie Tan, one of eight people killed ...</td>\n",
              "      <td>cnn.com</td>\n",
              "      <td>atlanta shooting</td>\n",
              "    </tr>\n",
              "    <tr>\n",
              "      <th>36</th>\n",
              "      <td>An Instacart shopper believed he heard someone...</td>\n",
              "      <td>cnn.com</td>\n",
              "      <td>atlanta shooting</td>\n",
              "    </tr>\n",
              "    <tr>\n",
              "      <th>37</th>\n",
              "      <td>Ken Jeong donates $50,000 to Atlanta shooting ...</td>\n",
              "      <td>foxnews.com</td>\n",
              "      <td>atlanta shooting</td>\n",
              "    </tr>\n",
              "    <tr>\n",
              "      <th>38</th>\n",
              "      <td>Left-leaning Hollywood celebrities are calling...</td>\n",
              "      <td>foxnews.com</td>\n",
              "      <td>atlanta shooting</td>\n",
              "    </tr>\n",
              "    <tr>\n",
              "      <th>39</th>\n",
              "      <td>After lunch on Monday, a man walked into a gro...</td>\n",
              "      <td>foxnews.com</td>\n",
              "      <td>atlanta shooting</td>\n",
              "    </tr>\n",
              "    <tr>\n",
              "      <th>40</th>\n",
              "      <td>Brandon Ingram looked invigorated by the sight...</td>\n",
              "      <td>foxnews.com</td>\n",
              "      <td>atlanta shooting</td>\n",
              "    </tr>\n",
              "    <tr>\n",
              "      <th>41</th>\n",
              "      <td>Stephen Colbert spoke out about the two tragic...</td>\n",
              "      <td>foxnews.com</td>\n",
              "      <td>atlanta shooting</td>\n",
              "    </tr>\n",
              "    <tr>\n",
              "      <th>42</th>\n",
              "      <td>\"The View\" co-host Sunny Hostin should look at...</td>\n",
              "      <td>foxnews.com</td>\n",
              "      <td>atlanta shooting</td>\n",
              "    </tr>\n",
              "    <tr>\n",
              "      <th>43</th>\n",
              "      <td>First dogs Champ and Major have returned to th...</td>\n",
              "      <td>foxnews.com</td>\n",
              "      <td>atlanta shooting</td>\n",
              "    </tr>\n",
              "    <tr>\n",
              "      <th>44</th>\n",
              "      <td>Virginia Beach police cannot determine a disgr...</td>\n",
              "      <td>foxnews.com</td>\n",
              "      <td>atlanta shooting</td>\n",
              "    </tr>\n",
              "    <tr>\n",
              "      <th>45</th>\n",
              "      <td>Atlanta police on Wednesday arrested a man aft...</td>\n",
              "      <td>foxnews.com</td>\n",
              "      <td>atlanta shooting</td>\n",
              "    </tr>\n",
              "    <tr>\n",
              "      <th>46</th>\n",
              "      <td>Contact Us This material may not be published,...</td>\n",
              "      <td>foxnews.com</td>\n",
              "      <td>atlanta shooting</td>\n",
              "    </tr>\n",
              "    <tr>\n",
              "      <th>47</th>\n",
              "      <td>We’ve all seen this movie way too many times.A...</td>\n",
              "      <td>foxnews.com</td>\n",
              "      <td>atlanta shooting</td>\n",
              "    </tr>\n",
              "    <tr>\n",
              "      <th>48</th>\n",
              "      <td>Home COVID-19 10 times MSNBC’s Joy Reid spread...</td>\n",
              "      <td>foxnews.com</td>\n",
              "      <td>atlanta shooting</td>\n",
              "    </tr>\n",
              "    <tr>\n",
              "      <th>49</th>\n",
              "      <td>Golden State Warriors coach Steve Kerr is unaf...</td>\n",
              "      <td>foxnews.com</td>\n",
              "      <td>atlanta shooting</td>\n",
              "    </tr>\n",
              "    <tr>\n",
              "      <th>50</th>\n",
              "      <td>President Biden took questions from just 10 re...</td>\n",
              "      <td>foxnews.com</td>\n",
              "      <td>atlanta shooting</td>\n",
              "    </tr>\n",
              "    <tr>\n",
              "      <th>51</th>\n",
              "      <td>An employee of the Boulder, Colorado , superma...</td>\n",
              "      <td>foxnews.com</td>\n",
              "      <td>atlanta shooting</td>\n",
              "    </tr>\n",
              "    <tr>\n",
              "      <th>52</th>\n",
              "      <td>An Instacart worker inside an Atlanta grocery ...</td>\n",
              "      <td>foxnews.com</td>\n",
              "      <td>atlanta shooting</td>\n",
              "    </tr>\n",
              "    <tr>\n",
              "      <th>53</th>\n",
              "      <td>The Los Angeles Clippers overcame a tough loss...</td>\n",
              "      <td>foxnews.com</td>\n",
              "      <td>atlanta shooting</td>\n",
              "    </tr>\n",
              "    <tr>\n",
              "      <th>54</th>\n",
              "      <td>A Washington state Democrat said this week tha...</td>\n",
              "      <td>foxnews.com</td>\n",
              "      <td>atlanta shooting</td>\n",
              "    </tr>\n",
              "    <tr>\n",
              "      <th>55</th>\n",
              "      <td>The suspect accused of opening fire inside a c...</td>\n",
              "      <td>foxnews.com</td>\n",
              "      <td>atlanta shooting</td>\n",
              "    </tr>\n",
              "    <tr>\n",
              "      <th>56</th>\n",
              "      <td>Punchbowl News founder Jake Sherman is the lat...</td>\n",
              "      <td>foxnews.com</td>\n",
              "      <td>atlanta shooting</td>\n",
              "    </tr>\n",
              "    <tr>\n",
              "      <th>57</th>\n",
              "      <td>Police scanner audio from Monday’s mass shooti...</td>\n",
              "      <td>foxnews.com</td>\n",
              "      <td>atlanta shooting</td>\n",
              "    </tr>\n",
              "    <tr>\n",
              "      <th>58</th>\n",
              "      <td>Rep. Ilhan Omar , D-Minn., faced backlash onli...</td>\n",
              "      <td>foxnews.com</td>\n",
              "      <td>atlanta shooting</td>\n",
              "    </tr>\n",
              "  </tbody>\n",
              "</table>\n",
              "</div>"
            ],
            "text/plain": [
              "                                                 text         site  \\\n",
              "0   (CNN) Connecticut officials are expressing the...      cnn.com   \n",
              "1   (CNN) The horror began in the parking lot.\\nA ...      cnn.com   \n",
              "2   New York (CNN Business) After mass shootings i...      cnn.com   \n",
              "3   10 killed in Colorado grocery store shooting B...      cnn.com   \n",
              "4   (CNN) Golden State Warriors head coach Steve K...      cnn.com   \n",
              "5   (CNN) — Rep. Jason Crow is urging Congress to ...      cnn.com   \n",
              "6   (CNN) — Democratic voters in Georgia may have ...      cnn.com   \n",
              "7   (CNN) The White House is weighing whether to i...      cnn.com   \n",
              "8   (CNN) A man armed with a rifle entered an Atla...      cnn.com   \n",
              "9   Jess Huang is a communications specialist who ...      cnn.com   \n",
              "10  (CNN) — President Joe Biden on Tuesday used th...      cnn.com   \n",
              "11  (CNN) A federal appeals court on Wednesday rul...      cnn.com   \n",
              "12  (CNN) Colorado Sen. Michael Bennet on Wednesda...      cnn.com   \n",
              "13  (CNN) President Joe Biden's first two months i...      cnn.com   \n",
              "14  David Axelrod, a senior CNN political commenta...      cnn.com   \n",
              "15  (CNN) — Several Asian American members of Cong...      cnn.com   \n",
              "16  (CNN) A defense attorney for the man charged w...      cnn.com   \n",
              "17  (CNN) Claudia Choi says that after her father ...      cnn.com   \n",
              "18  (CNN) — President Joe Biden and Vice President...      cnn.com   \n",
              "19  (CNN) President Joe Biden is holding his first...      cnn.com   \n",
              "20  (CNN) — President Joe Biden on Friday condemne...      cnn.com   \n",
              "21  (CNN) — President Joe Biden has ordered the Am...      cnn.com   \n",
              "22  (CNN) Former late night talk show host Jay Len...      cnn.com   \n",
              "23  Peniel E. Joseph is the Barbara Jordan chair i...      cnn.com   \n",
              "24  (CNN) — President Joe Biden will meet with Sta...      cnn.com   \n",
              "25  (CNN) — President Joe Biden and Vice President...      cnn.com   \n",
              "26  (CNN) — This week, the surge of unaccompanied ...      cnn.com   \n",
              "27  (CNN) — These sad truths about mass shootings ...      cnn.com   \n",
              "28  (CNN) — A day after the seventh mass shooting ...      cnn.com   \n",
              "29  Roxanne Jones , a founding editor of ESPN Maga...      cnn.com   \n",
              "30  Dominion Voting Systems files $1.6 billion law...      cnn.com   \n",
              "31  (CNN) — Former Transportation Secretary Elaine...      cnn.com   \n",
              "32  (CNN) — Sen. Joe Manchin, a centrist Democrat ...      cnn.com   \n",
              "33  (CNN) An Instacart shopper who entered an Atla...      cnn.com   \n",
              "34  Watch \"AFRAID: Fear in Communities of Color\" a...      cnn.com   \n",
              "35  (CNN) Xiaojie Tan, one of eight people killed ...      cnn.com   \n",
              "36  An Instacart shopper believed he heard someone...      cnn.com   \n",
              "37  Ken Jeong donates $50,000 to Atlanta shooting ...  foxnews.com   \n",
              "38  Left-leaning Hollywood celebrities are calling...  foxnews.com   \n",
              "39  After lunch on Monday, a man walked into a gro...  foxnews.com   \n",
              "40  Brandon Ingram looked invigorated by the sight...  foxnews.com   \n",
              "41  Stephen Colbert spoke out about the two tragic...  foxnews.com   \n",
              "42  \"The View\" co-host Sunny Hostin should look at...  foxnews.com   \n",
              "43  First dogs Champ and Major have returned to th...  foxnews.com   \n",
              "44  Virginia Beach police cannot determine a disgr...  foxnews.com   \n",
              "45  Atlanta police on Wednesday arrested a man aft...  foxnews.com   \n",
              "46  Contact Us This material may not be published,...  foxnews.com   \n",
              "47  We’ve all seen this movie way too many times.A...  foxnews.com   \n",
              "48  Home COVID-19 10 times MSNBC’s Joy Reid spread...  foxnews.com   \n",
              "49  Golden State Warriors coach Steve Kerr is unaf...  foxnews.com   \n",
              "50  President Biden took questions from just 10 re...  foxnews.com   \n",
              "51  An employee of the Boulder, Colorado , superma...  foxnews.com   \n",
              "52  An Instacart worker inside an Atlanta grocery ...  foxnews.com   \n",
              "53  The Los Angeles Clippers overcame a tough loss...  foxnews.com   \n",
              "54  A Washington state Democrat said this week tha...  foxnews.com   \n",
              "55  The suspect accused of opening fire inside a c...  foxnews.com   \n",
              "56  Punchbowl News founder Jake Sherman is the lat...  foxnews.com   \n",
              "57  Police scanner audio from Monday’s mass shooti...  foxnews.com   \n",
              "58  Rep. Ilhan Omar , D-Minn., faced backlash onli...  foxnews.com   \n",
              "\n",
              "           key_words  \n",
              "0   atlanta shooting  \n",
              "1   atlanta shooting  \n",
              "2   atlanta shooting  \n",
              "3   atlanta shooting  \n",
              "4   atlanta shooting  \n",
              "5   atlanta shooting  \n",
              "6   atlanta shooting  \n",
              "7   atlanta shooting  \n",
              "8   atlanta shooting  \n",
              "9   atlanta shooting  \n",
              "10  atlanta shooting  \n",
              "11  atlanta shooting  \n",
              "12  atlanta shooting  \n",
              "13  atlanta shooting  \n",
              "14  atlanta shooting  \n",
              "15  atlanta shooting  \n",
              "16  atlanta shooting  \n",
              "17  atlanta shooting  \n",
              "18  atlanta shooting  \n",
              "19  atlanta shooting  \n",
              "20  atlanta shooting  \n",
              "21  atlanta shooting  \n",
              "22  atlanta shooting  \n",
              "23  atlanta shooting  \n",
              "24  atlanta shooting  \n",
              "25  atlanta shooting  \n",
              "26  atlanta shooting  \n",
              "27  atlanta shooting  \n",
              "28  atlanta shooting  \n",
              "29  atlanta shooting  \n",
              "30  atlanta shooting  \n",
              "31  atlanta shooting  \n",
              "32  atlanta shooting  \n",
              "33  atlanta shooting  \n",
              "34  atlanta shooting  \n",
              "35  atlanta shooting  \n",
              "36  atlanta shooting  \n",
              "37  atlanta shooting  \n",
              "38  atlanta shooting  \n",
              "39  atlanta shooting  \n",
              "40  atlanta shooting  \n",
              "41  atlanta shooting  \n",
              "42  atlanta shooting  \n",
              "43  atlanta shooting  \n",
              "44  atlanta shooting  \n",
              "45  atlanta shooting  \n",
              "46  atlanta shooting  \n",
              "47  atlanta shooting  \n",
              "48  atlanta shooting  \n",
              "49  atlanta shooting  \n",
              "50  atlanta shooting  \n",
              "51  atlanta shooting  \n",
              "52  atlanta shooting  \n",
              "53  atlanta shooting  \n",
              "54  atlanta shooting  \n",
              "55  atlanta shooting  \n",
              "56  atlanta shooting  \n",
              "57  atlanta shooting  \n",
              "58  atlanta shooting  "
            ]
          },
          "metadata": {
            "tags": []
          },
          "execution_count": 3
        }
      ]
    },
    {
      "cell_type": "code",
      "metadata": {
        "id": "J3Tz-POcb70Q"
      },
      "source": [
        "def fetch_data(q, site):\n",
        "    query_params_ = {\n",
        "        \"q\": q,\n",
        "        \"sort\": \"crawled\",\n",
        "        \"site_type\": \"news\",\n",
        "        \"site\": site\n",
        "    }\n",
        "    # We query the data here\n",
        "    new_output = webhoseio.query(\"filterWebContent\", query_params_)\n",
        "    \n",
        "    # We turn the json file into a dataframe\n",
        "    new_output = pd.json_normalize(new_output['posts'])\n",
        "    \n",
        "    # We pick up the columns we want and ignore the rest\n",
        "    col_list = ['text', 'thread.site']\n",
        "    new_output = new_output[col_list]\n",
        "    \n",
        "    # We should simplify the column names\n",
        "    new_output.rename(columns={'thread.site':'site'}, inplace=True)\n",
        "    \n",
        "    # We add the key words as a column\n",
        "    new_output['key_words'] = q\n",
        "\n",
        "    # We merge with the original dataframe\n",
        "    df = pd.concat([new_output, output], ignore_index=True)\n",
        "    return df"
      ],
      "execution_count": null,
      "outputs": []
    },
    {
      "cell_type": "code",
      "metadata": {
        "id": "G2E4e2ULb70S",
        "outputId": "efdb965a-0e2f-4df0-aac8-b9293f50f814"
      },
      "source": [
        "df = fetch_data('atlanta shooting', 'cnn.com')\n",
        "df"
      ],
      "execution_count": null,
      "outputs": [
        {
          "output_type": "error",
          "ename": "Exception",
          "evalue": "Your 10-day trial has now ended. \n\nIf you'd like to continue using Webhose, please visit our pricing plan. https://webhose.io/plans-and-pricing",
          "traceback": [
            "\u001b[0;31m---------------------------------------------------------------------------\u001b[0m",
            "\u001b[0;31mException\u001b[0m                                 Traceback (most recent call last)",
            "\u001b[0;32m<ipython-input-7-a5743db6a4ae>\u001b[0m in \u001b[0;36m<module>\u001b[0;34m\u001b[0m\n\u001b[0;32m----> 1\u001b[0;31m \u001b[0mdf\u001b[0m \u001b[0;34m=\u001b[0m \u001b[0mfetch_data\u001b[0m\u001b[0;34m(\u001b[0m\u001b[0;34m'atlanta shooting'\u001b[0m\u001b[0;34m,\u001b[0m \u001b[0;34m'cnn.com'\u001b[0m\u001b[0;34m)\u001b[0m\u001b[0;34m\u001b[0m\u001b[0;34m\u001b[0m\u001b[0m\n\u001b[0m\u001b[1;32m      2\u001b[0m \u001b[0mdf\u001b[0m\u001b[0;34m\u001b[0m\u001b[0;34m\u001b[0m\u001b[0m\n",
            "\u001b[0;32m<ipython-input-6-0c94480abce0>\u001b[0m in \u001b[0;36mfetch_data\u001b[0;34m(q, site)\u001b[0m\n\u001b[1;32m      7\u001b[0m     }\n\u001b[1;32m      8\u001b[0m     \u001b[0;31m# We query the data here\u001b[0m\u001b[0;34m\u001b[0m\u001b[0;34m\u001b[0m\u001b[0;34m\u001b[0m\u001b[0m\n\u001b[0;32m----> 9\u001b[0;31m     \u001b[0mnew_output\u001b[0m \u001b[0;34m=\u001b[0m \u001b[0mwebhoseio\u001b[0m\u001b[0;34m.\u001b[0m\u001b[0mquery\u001b[0m\u001b[0;34m(\u001b[0m\u001b[0;34m\"filterWebContent\"\u001b[0m\u001b[0;34m,\u001b[0m \u001b[0mquery_params_\u001b[0m\u001b[0;34m)\u001b[0m\u001b[0;34m\u001b[0m\u001b[0;34m\u001b[0m\u001b[0m\n\u001b[0m\u001b[1;32m     10\u001b[0m \u001b[0;34m\u001b[0m\u001b[0m\n\u001b[1;32m     11\u001b[0m     \u001b[0;31m# We turn the json file into a dataframe\u001b[0m\u001b[0;34m\u001b[0m\u001b[0;34m\u001b[0m\u001b[0;34m\u001b[0m\u001b[0m\n",
            "\u001b[0;32m~/opt/anaconda3/lib/python3.8/site-packages/webhoseio/__init__.py\u001b[0m in \u001b[0;36mquery\u001b[0;34m(end_point_str, param_dict)\u001b[0m\n\u001b[1;32m     35\u001b[0m \u001b[0;34m\u001b[0m\u001b[0m\n\u001b[1;32m     36\u001b[0m \u001b[0;32mdef\u001b[0m \u001b[0mquery\u001b[0m\u001b[0;34m(\u001b[0m\u001b[0mend_point_str\u001b[0m\u001b[0;34m,\u001b[0m \u001b[0mparam_dict\u001b[0m\u001b[0;34m=\u001b[0m\u001b[0;32mNone\u001b[0m\u001b[0;34m)\u001b[0m\u001b[0;34m:\u001b[0m\u001b[0;34m\u001b[0m\u001b[0;34m\u001b[0m\u001b[0m\n\u001b[0;32m---> 37\u001b[0;31m     \u001b[0;32mreturn\u001b[0m \u001b[0m__session\u001b[0m\u001b[0;34m.\u001b[0m\u001b[0mquery\u001b[0m\u001b[0;34m(\u001b[0m\u001b[0mend_point_str\u001b[0m\u001b[0;34m,\u001b[0m \u001b[0mparam_dict\u001b[0m\u001b[0;34m)\u001b[0m\u001b[0;34m\u001b[0m\u001b[0;34m\u001b[0m\u001b[0m\n\u001b[0m\u001b[1;32m     38\u001b[0m \u001b[0;34m\u001b[0m\u001b[0m\n\u001b[1;32m     39\u001b[0m \u001b[0;34m\u001b[0m\u001b[0m\n",
            "\u001b[0;32m~/opt/anaconda3/lib/python3.8/site-packages/webhoseio/__init__.py\u001b[0m in \u001b[0;36mquery\u001b[0;34m(self, end_point_str, param_dict)\u001b[0m\n\u001b[1;32m     17\u001b[0m         \u001b[0mresponse\u001b[0m \u001b[0;34m=\u001b[0m \u001b[0mself\u001b[0m\u001b[0;34m.\u001b[0m\u001b[0msession\u001b[0m\u001b[0;34m.\u001b[0m\u001b[0mget\u001b[0m\u001b[0;34m(\u001b[0m\u001b[0;34m\"http://webhose.io/\"\u001b[0m \u001b[0;34m+\u001b[0m \u001b[0mend_point_str\u001b[0m\u001b[0;34m,\u001b[0m \u001b[0mparams\u001b[0m\u001b[0;34m=\u001b[0m\u001b[0mparam_dict\u001b[0m\u001b[0;34m)\u001b[0m\u001b[0;34m\u001b[0m\u001b[0;34m\u001b[0m\u001b[0m\n\u001b[1;32m     18\u001b[0m         \u001b[0;32mif\u001b[0m \u001b[0mresponse\u001b[0m\u001b[0;34m.\u001b[0m\u001b[0mstatus_code\u001b[0m \u001b[0;34m!=\u001b[0m \u001b[0;36m200\u001b[0m\u001b[0;34m:\u001b[0m\u001b[0;34m\u001b[0m\u001b[0;34m\u001b[0m\u001b[0m\n\u001b[0;32m---> 19\u001b[0;31m             \u001b[0;32mraise\u001b[0m \u001b[0mException\u001b[0m\u001b[0;34m(\u001b[0m\u001b[0mresponse\u001b[0m\u001b[0;34m.\u001b[0m\u001b[0mtext\u001b[0m\u001b[0;34m)\u001b[0m\u001b[0;34m\u001b[0m\u001b[0;34m\u001b[0m\u001b[0m\n\u001b[0m\u001b[1;32m     20\u001b[0m \u001b[0;34m\u001b[0m\u001b[0m\n\u001b[1;32m     21\u001b[0m         \u001b[0m_output\u001b[0m \u001b[0;34m=\u001b[0m \u001b[0mresponse\u001b[0m\u001b[0;34m.\u001b[0m\u001b[0mjson\u001b[0m\u001b[0;34m(\u001b[0m\u001b[0;34m)\u001b[0m\u001b[0;34m\u001b[0m\u001b[0;34m\u001b[0m\u001b[0m\n",
            "\u001b[0;31mException\u001b[0m: Your 10-day trial has now ended. \n\nIf you'd like to continue using Webhose, please visit our pricing plan. https://webhose.io/plans-and-pricing"
          ]
        }
      ]
    },
    {
      "cell_type": "markdown",
      "metadata": {
        "id": "gZzHKagVb70V"
      },
      "source": [
        "There are duplicates in the results. We have to remove duplicates."
      ]
    },
    {
      "cell_type": "markdown",
      "metadata": {
        "id": "4dTg5Exrb70W"
      },
      "source": [
        "Let's work on foxnews now."
      ]
    },
    {
      "cell_type": "code",
      "metadata": {
        "id": "HL9wpWilb70X",
        "outputId": "25acd927-143e-4c1f-8781-1635e4b0c0e6"
      },
      "source": [
        "#Let's look at our news source count\n",
        "df.site.value_counts().plot(kind='bar')"
      ],
      "execution_count": null,
      "outputs": [
        {
          "output_type": "execute_result",
          "data": {
            "text/plain": [
              "<AxesSubplot:>"
            ]
          },
          "metadata": {
            "tags": []
          },
          "execution_count": 10
        },
        {
          "output_type": "display_data",
          "data": {
            "image/png": "[encoded data removed]",
            "text/plain": [
              "<Figure size 432x288 with 1 Axes>"
            ]
          },
          "metadata": {
            "tags": [],
            "needs_background": "light"
          }
        }
      ]
    },
    {
      "cell_type": "markdown",
      "metadata": {
        "id": "0m-PGWhhb70a"
      },
      "source": [
        "# Text Preprocessing\n",
        "We will process the text. We start with removing duplicates. First, we will define a function to determine similarity. Then, using this similarity ratio we will elilminate the duplicate rows."
      ]
    },
    {
      "cell_type": "code",
      "metadata": {
        "id": "Haw6YdMqb70c"
      },
      "source": [
        "import difflib\n",
        "# This function is to find similar entries and eliminate them.\n",
        "def similar(a, b):\n",
        "    return difflib.SequenceMatcher(None, a, b).ratio()"
      ],
      "execution_count": null,
      "outputs": []
    },
    {
      "cell_type": "code",
      "metadata": {
        "id": "FSYZH6JWb70e",
        "outputId": "fb86e487-c504-47ba-8e4a-293b475e8d1d"
      },
      "source": [
        "df = output\n",
        "df.shape"
      ],
      "execution_count": null,
      "outputs": [
        {
          "output_type": "execute_result",
          "data": {
            "text/plain": [
              "(59, 3)"
            ]
          },
          "metadata": {
            "tags": []
          },
          "execution_count": 6
        }
      ]
    },
    {
      "cell_type": "code",
      "metadata": {
        "id": "43CSbyH3b70g",
        "outputId": "c1ab026f-2388-4539-cc6c-c8cdec860fb6"
      },
      "source": [
        "df.shape"
      ],
      "execution_count": null,
      "outputs": [
        {
          "output_type": "execute_result",
          "data": {
            "text/plain": [
              "(59, 3)"
            ]
          },
          "metadata": {
            "tags": []
          },
          "execution_count": 37
        }
      ]
    },
    {
      "cell_type": "code",
      "metadata": {
        "id": "HuxQO3Pvb70h"
      },
      "source": [
        "# This function is to remove any rows with similar text. Duplicate remover function does not work\n",
        "# since we are working with large text and a similarity finder works properly\n",
        "\n",
        "def duplicate_remover(df):\n",
        "    \n",
        "    df.reset_index(inplace=True, drop=True)               # we reset the index since the whole fn depends on index\n",
        "    my_list = []                                          # my_list will be where similar rows will be stored\n",
        "    for index, row in df.iterrows():                      # we iterate over the rows twice\n",
        "        for index2, row2 in df.iterrows():\n",
        "            if index != index2:                           # we avoid comparing the text with itself\n",
        "                k = similar(row['text'], row2['text'])    # we use the similarity function we defined before\n",
        "                if k > .7:                                # if the similarity is more than 70%, we drop one of the news\n",
        "                    r1 = min(index, index2)\n",
        "                    r2 = max(index, index2)\n",
        "                    if (r1, r2) not in my_list:           # every similar row is entered as an ordered tuple\n",
        "                        my_list.append((r1, r2))          # we add similar tuples to our list\n",
        "\n",
        "    new_list = []                                         # we choose one of the similar rows\n",
        "    for i in my_list:\n",
        "        new_list.append(i[1])\n",
        "\n",
        "\n",
        "    for i in new_list:\n",
        "        df = df.drop(df.loc[df.index==i].index)\n",
        "        #df.drop([i], inplace=True)                        # we drop one of the similar news\n",
        "    return df"
      ],
      "execution_count": null,
      "outputs": []
    },
    {
      "cell_type": "code",
      "metadata": {
        "id": "WUegcFyxb70h"
      },
      "source": [
        "df = duplicate_remover(df)"
      ],
      "execution_count": null,
      "outputs": []
    },
    {
      "cell_type": "code",
      "metadata": {
        "id": "7z3izyREb70h",
        "outputId": "d168d76c-fbed-4947-d8e6-7276fa771b7d"
      },
      "source": [
        "# We would like to save the output to a file, to be used later\n",
        "df.reset_index(inplace=True, drop=True)\n",
        "df.to_csv('output.csv', index=False)\n",
        "df"
      ],
      "execution_count": null,
      "outputs": [
        {
          "output_type": "execute_result",
          "data": {
            "text/html": [
              "<div>\n",
              "<style scoped>\n",
              "    .dataframe tbody tr th:only-of-type {\n",
              "        vertical-align: middle;\n",
              "    }\n",
              "\n",
              "    .dataframe tbody tr th {\n",
              "        vertical-align: top;\n",
              "    }\n",
              "\n",
              "    .dataframe thead th {\n",
              "        text-align: right;\n",
              "    }\n",
              "</style>\n",
              "<table border=\"1\" class=\"dataframe\">\n",
              "  <thead>\n",
              "    <tr style=\"text-align: right;\">\n",
              "      <th></th>\n",
              "      <th>text</th>\n",
              "      <th>site</th>\n",
              "      <th>key_words</th>\n",
              "    </tr>\n",
              "  </thead>\n",
              "  <tbody>\n",
              "    <tr>\n",
              "      <th>0</th>\n",
              "      <td>(CNN) Connecticut officials are expressing the...</td>\n",
              "      <td>cnn.com</td>\n",
              "      <td>atlanta shooting</td>\n",
              "    </tr>\n",
              "    <tr>\n",
              "      <th>1</th>\n",
              "      <td>(CNN) The horror began in the parking lot.\\nA ...</td>\n",
              "      <td>cnn.com</td>\n",
              "      <td>atlanta shooting</td>\n",
              "    </tr>\n",
              "    <tr>\n",
              "      <th>2</th>\n",
              "      <td>New York (CNN Business) After mass shootings i...</td>\n",
              "      <td>cnn.com</td>\n",
              "      <td>atlanta shooting</td>\n",
              "    </tr>\n",
              "    <tr>\n",
              "      <th>3</th>\n",
              "      <td>10 killed in Colorado grocery store shooting B...</td>\n",
              "      <td>cnn.com</td>\n",
              "      <td>atlanta shooting</td>\n",
              "    </tr>\n",
              "    <tr>\n",
              "      <th>4</th>\n",
              "      <td>(CNN) Golden State Warriors head coach Steve K...</td>\n",
              "      <td>cnn.com</td>\n",
              "      <td>atlanta shooting</td>\n",
              "    </tr>\n",
              "    <tr>\n",
              "      <th>5</th>\n",
              "      <td>(CNN) — Rep. Jason Crow is urging Congress to ...</td>\n",
              "      <td>cnn.com</td>\n",
              "      <td>atlanta shooting</td>\n",
              "    </tr>\n",
              "    <tr>\n",
              "      <th>6</th>\n",
              "      <td>(CNN) — Democratic voters in Georgia may have ...</td>\n",
              "      <td>cnn.com</td>\n",
              "      <td>atlanta shooting</td>\n",
              "    </tr>\n",
              "    <tr>\n",
              "      <th>7</th>\n",
              "      <td>(CNN) The White House is weighing whether to i...</td>\n",
              "      <td>cnn.com</td>\n",
              "      <td>atlanta shooting</td>\n",
              "    </tr>\n",
              "    <tr>\n",
              "      <th>8</th>\n",
              "      <td>(CNN) A man armed with a rifle entered an Atla...</td>\n",
              "      <td>cnn.com</td>\n",
              "      <td>atlanta shooting</td>\n",
              "    </tr>\n",
              "    <tr>\n",
              "      <th>9</th>\n",
              "      <td>Jess Huang is a communications specialist who ...</td>\n",
              "      <td>cnn.com</td>\n",
              "      <td>atlanta shooting</td>\n",
              "    </tr>\n",
              "    <tr>\n",
              "      <th>10</th>\n",
              "      <td>(CNN) — President Joe Biden on Tuesday used th...</td>\n",
              "      <td>cnn.com</td>\n",
              "      <td>atlanta shooting</td>\n",
              "    </tr>\n",
              "    <tr>\n",
              "      <th>11</th>\n",
              "      <td>(CNN) A federal appeals court on Wednesday rul...</td>\n",
              "      <td>cnn.com</td>\n",
              "      <td>atlanta shooting</td>\n",
              "    </tr>\n",
              "    <tr>\n",
              "      <th>12</th>\n",
              "      <td>(CNN) Colorado Sen. Michael Bennet on Wednesda...</td>\n",
              "      <td>cnn.com</td>\n",
              "      <td>atlanta shooting</td>\n",
              "    </tr>\n",
              "    <tr>\n",
              "      <th>13</th>\n",
              "      <td>(CNN) President Joe Biden's first two months i...</td>\n",
              "      <td>cnn.com</td>\n",
              "      <td>atlanta shooting</td>\n",
              "    </tr>\n",
              "    <tr>\n",
              "      <th>14</th>\n",
              "      <td>David Axelrod, a senior CNN political commenta...</td>\n",
              "      <td>cnn.com</td>\n",
              "      <td>atlanta shooting</td>\n",
              "    </tr>\n",
              "    <tr>\n",
              "      <th>15</th>\n",
              "      <td>(CNN) — Several Asian American members of Cong...</td>\n",
              "      <td>cnn.com</td>\n",
              "      <td>atlanta shooting</td>\n",
              "    </tr>\n",
              "    <tr>\n",
              "      <th>16</th>\n",
              "      <td>(CNN) A defense attorney for the man charged w...</td>\n",
              "      <td>cnn.com</td>\n",
              "      <td>atlanta shooting</td>\n",
              "    </tr>\n",
              "    <tr>\n",
              "      <th>17</th>\n",
              "      <td>(CNN) Claudia Choi says that after her father ...</td>\n",
              "      <td>cnn.com</td>\n",
              "      <td>atlanta shooting</td>\n",
              "    </tr>\n",
              "    <tr>\n",
              "      <th>18</th>\n",
              "      <td>(CNN) — President Joe Biden and Vice President...</td>\n",
              "      <td>cnn.com</td>\n",
              "      <td>atlanta shooting</td>\n",
              "    </tr>\n",
              "    <tr>\n",
              "      <th>19</th>\n",
              "      <td>(CNN) President Joe Biden is holding his first...</td>\n",
              "      <td>cnn.com</td>\n",
              "      <td>atlanta shooting</td>\n",
              "    </tr>\n",
              "    <tr>\n",
              "      <th>20</th>\n",
              "      <td>(CNN) — President Joe Biden on Friday condemne...</td>\n",
              "      <td>cnn.com</td>\n",
              "      <td>atlanta shooting</td>\n",
              "    </tr>\n",
              "    <tr>\n",
              "      <th>21</th>\n",
              "      <td>(CNN) — President Joe Biden has ordered the Am...</td>\n",
              "      <td>cnn.com</td>\n",
              "      <td>atlanta shooting</td>\n",
              "    </tr>\n",
              "    <tr>\n",
              "      <th>22</th>\n",
              "      <td>(CNN) Former late night talk show host Jay Len...</td>\n",
              "      <td>cnn.com</td>\n",
              "      <td>atlanta shooting</td>\n",
              "    </tr>\n",
              "    <tr>\n",
              "      <th>23</th>\n",
              "      <td>Peniel E. Joseph is the Barbara Jordan chair i...</td>\n",
              "      <td>cnn.com</td>\n",
              "      <td>atlanta shooting</td>\n",
              "    </tr>\n",
              "    <tr>\n",
              "      <th>24</th>\n",
              "      <td>(CNN) — President Joe Biden will meet with Sta...</td>\n",
              "      <td>cnn.com</td>\n",
              "      <td>atlanta shooting</td>\n",
              "    </tr>\n",
              "    <tr>\n",
              "      <th>25</th>\n",
              "      <td>(CNN) — President Joe Biden and Vice President...</td>\n",
              "      <td>cnn.com</td>\n",
              "      <td>atlanta shooting</td>\n",
              "    </tr>\n",
              "    <tr>\n",
              "      <th>26</th>\n",
              "      <td>(CNN) — This week, the surge of unaccompanied ...</td>\n",
              "      <td>cnn.com</td>\n",
              "      <td>atlanta shooting</td>\n",
              "    </tr>\n",
              "    <tr>\n",
              "      <th>27</th>\n",
              "      <td>(CNN) — These sad truths about mass shootings ...</td>\n",
              "      <td>cnn.com</td>\n",
              "      <td>atlanta shooting</td>\n",
              "    </tr>\n",
              "    <tr>\n",
              "      <th>28</th>\n",
              "      <td>(CNN) — A day after the seventh mass shooting ...</td>\n",
              "      <td>cnn.com</td>\n",
              "      <td>atlanta shooting</td>\n",
              "    </tr>\n",
              "    <tr>\n",
              "      <th>29</th>\n",
              "      <td>Roxanne Jones , a founding editor of ESPN Maga...</td>\n",
              "      <td>cnn.com</td>\n",
              "      <td>atlanta shooting</td>\n",
              "    </tr>\n",
              "    <tr>\n",
              "      <th>30</th>\n",
              "      <td>Dominion Voting Systems files $1.6 billion law...</td>\n",
              "      <td>cnn.com</td>\n",
              "      <td>atlanta shooting</td>\n",
              "    </tr>\n",
              "    <tr>\n",
              "      <th>31</th>\n",
              "      <td>(CNN) — Former Transportation Secretary Elaine...</td>\n",
              "      <td>cnn.com</td>\n",
              "      <td>atlanta shooting</td>\n",
              "    </tr>\n",
              "    <tr>\n",
              "      <th>32</th>\n",
              "      <td>(CNN) — Sen. Joe Manchin, a centrist Democrat ...</td>\n",
              "      <td>cnn.com</td>\n",
              "      <td>atlanta shooting</td>\n",
              "    </tr>\n",
              "    <tr>\n",
              "      <th>33</th>\n",
              "      <td>(CNN) An Instacart shopper who entered an Atla...</td>\n",
              "      <td>cnn.com</td>\n",
              "      <td>atlanta shooting</td>\n",
              "    </tr>\n",
              "    <tr>\n",
              "      <th>34</th>\n",
              "      <td>Watch \"AFRAID: Fear in Communities of Color\" a...</td>\n",
              "      <td>cnn.com</td>\n",
              "      <td>atlanta shooting</td>\n",
              "    </tr>\n",
              "    <tr>\n",
              "      <th>35</th>\n",
              "      <td>(CNN) Xiaojie Tan, one of eight people killed ...</td>\n",
              "      <td>cnn.com</td>\n",
              "      <td>atlanta shooting</td>\n",
              "    </tr>\n",
              "    <tr>\n",
              "      <th>36</th>\n",
              "      <td>An Instacart shopper believed he heard someone...</td>\n",
              "      <td>cnn.com</td>\n",
              "      <td>atlanta shooting</td>\n",
              "    </tr>\n",
              "    <tr>\n",
              "      <th>37</th>\n",
              "      <td>Ken Jeong donates $50,000 to Atlanta shooting ...</td>\n",
              "      <td>foxnews.com</td>\n",
              "      <td>atlanta shooting</td>\n",
              "    </tr>\n",
              "    <tr>\n",
              "      <th>38</th>\n",
              "      <td>Left-leaning Hollywood celebrities are calling...</td>\n",
              "      <td>foxnews.com</td>\n",
              "      <td>atlanta shooting</td>\n",
              "    </tr>\n",
              "    <tr>\n",
              "      <th>39</th>\n",
              "      <td>After lunch on Monday, a man walked into a gro...</td>\n",
              "      <td>foxnews.com</td>\n",
              "      <td>atlanta shooting</td>\n",
              "    </tr>\n",
              "    <tr>\n",
              "      <th>40</th>\n",
              "      <td>Brandon Ingram looked invigorated by the sight...</td>\n",
              "      <td>foxnews.com</td>\n",
              "      <td>atlanta shooting</td>\n",
              "    </tr>\n",
              "    <tr>\n",
              "      <th>41</th>\n",
              "      <td>Stephen Colbert spoke out about the two tragic...</td>\n",
              "      <td>foxnews.com</td>\n",
              "      <td>atlanta shooting</td>\n",
              "    </tr>\n",
              "    <tr>\n",
              "      <th>42</th>\n",
              "      <td>\"The View\" co-host Sunny Hostin should look at...</td>\n",
              "      <td>foxnews.com</td>\n",
              "      <td>atlanta shooting</td>\n",
              "    </tr>\n",
              "    <tr>\n",
              "      <th>43</th>\n",
              "      <td>First dogs Champ and Major have returned to th...</td>\n",
              "      <td>foxnews.com</td>\n",
              "      <td>atlanta shooting</td>\n",
              "    </tr>\n",
              "    <tr>\n",
              "      <th>44</th>\n",
              "      <td>Virginia Beach police cannot determine a disgr...</td>\n",
              "      <td>foxnews.com</td>\n",
              "      <td>atlanta shooting</td>\n",
              "    </tr>\n",
              "    <tr>\n",
              "      <th>45</th>\n",
              "      <td>Atlanta police on Wednesday arrested a man aft...</td>\n",
              "      <td>foxnews.com</td>\n",
              "      <td>atlanta shooting</td>\n",
              "    </tr>\n",
              "    <tr>\n",
              "      <th>46</th>\n",
              "      <td>Contact Us This material may not be published,...</td>\n",
              "      <td>foxnews.com</td>\n",
              "      <td>atlanta shooting</td>\n",
              "    </tr>\n",
              "    <tr>\n",
              "      <th>47</th>\n",
              "      <td>We’ve all seen this movie way too many times.A...</td>\n",
              "      <td>foxnews.com</td>\n",
              "      <td>atlanta shooting</td>\n",
              "    </tr>\n",
              "    <tr>\n",
              "      <th>48</th>\n",
              "      <td>Home COVID-19 10 times MSNBC’s Joy Reid spread...</td>\n",
              "      <td>foxnews.com</td>\n",
              "      <td>atlanta shooting</td>\n",
              "    </tr>\n",
              "    <tr>\n",
              "      <th>49</th>\n",
              "      <td>Golden State Warriors coach Steve Kerr is unaf...</td>\n",
              "      <td>foxnews.com</td>\n",
              "      <td>atlanta shooting</td>\n",
              "    </tr>\n",
              "    <tr>\n",
              "      <th>50</th>\n",
              "      <td>President Biden took questions from just 10 re...</td>\n",
              "      <td>foxnews.com</td>\n",
              "      <td>atlanta shooting</td>\n",
              "    </tr>\n",
              "    <tr>\n",
              "      <th>51</th>\n",
              "      <td>An employee of the Boulder, Colorado , superma...</td>\n",
              "      <td>foxnews.com</td>\n",
              "      <td>atlanta shooting</td>\n",
              "    </tr>\n",
              "    <tr>\n",
              "      <th>52</th>\n",
              "      <td>An Instacart worker inside an Atlanta grocery ...</td>\n",
              "      <td>foxnews.com</td>\n",
              "      <td>atlanta shooting</td>\n",
              "    </tr>\n",
              "    <tr>\n",
              "      <th>53</th>\n",
              "      <td>The Los Angeles Clippers overcame a tough loss...</td>\n",
              "      <td>foxnews.com</td>\n",
              "      <td>atlanta shooting</td>\n",
              "    </tr>\n",
              "    <tr>\n",
              "      <th>54</th>\n",
              "      <td>A Washington state Democrat said this week tha...</td>\n",
              "      <td>foxnews.com</td>\n",
              "      <td>atlanta shooting</td>\n",
              "    </tr>\n",
              "    <tr>\n",
              "      <th>55</th>\n",
              "      <td>The suspect accused of opening fire inside a c...</td>\n",
              "      <td>foxnews.com</td>\n",
              "      <td>atlanta shooting</td>\n",
              "    </tr>\n",
              "    <tr>\n",
              "      <th>56</th>\n",
              "      <td>Punchbowl News founder Jake Sherman is the lat...</td>\n",
              "      <td>foxnews.com</td>\n",
              "      <td>atlanta shooting</td>\n",
              "    </tr>\n",
              "    <tr>\n",
              "      <th>57</th>\n",
              "      <td>Police scanner audio from Monday’s mass shooti...</td>\n",
              "      <td>foxnews.com</td>\n",
              "      <td>atlanta shooting</td>\n",
              "    </tr>\n",
              "    <tr>\n",
              "      <th>58</th>\n",
              "      <td>Rep. Ilhan Omar , D-Minn., faced backlash onli...</td>\n",
              "      <td>foxnews.com</td>\n",
              "      <td>atlanta shooting</td>\n",
              "    </tr>\n",
              "  </tbody>\n",
              "</table>\n",
              "</div>"
            ],
            "text/plain": [
              "                                                 text         site  \\\n",
              "0   (CNN) Connecticut officials are expressing the...      cnn.com   \n",
              "1   (CNN) The horror began in the parking lot.\\nA ...      cnn.com   \n",
              "2   New York (CNN Business) After mass shootings i...      cnn.com   \n",
              "3   10 killed in Colorado grocery store shooting B...      cnn.com   \n",
              "4   (CNN) Golden State Warriors head coach Steve K...      cnn.com   \n",
              "5   (CNN) — Rep. Jason Crow is urging Congress to ...      cnn.com   \n",
              "6   (CNN) — Democratic voters in Georgia may have ...      cnn.com   \n",
              "7   (CNN) The White House is weighing whether to i...      cnn.com   \n",
              "8   (CNN) A man armed with a rifle entered an Atla...      cnn.com   \n",
              "9   Jess Huang is a communications specialist who ...      cnn.com   \n",
              "10  (CNN) — President Joe Biden on Tuesday used th...      cnn.com   \n",
              "11  (CNN) A federal appeals court on Wednesday rul...      cnn.com   \n",
              "12  (CNN) Colorado Sen. Michael Bennet on Wednesda...      cnn.com   \n",
              "13  (CNN) President Joe Biden's first two months i...      cnn.com   \n",
              "14  David Axelrod, a senior CNN political commenta...      cnn.com   \n",
              "15  (CNN) — Several Asian American members of Cong...      cnn.com   \n",
              "16  (CNN) A defense attorney for the man charged w...      cnn.com   \n",
              "17  (CNN) Claudia Choi says that after her father ...      cnn.com   \n",
              "18  (CNN) — President Joe Biden and Vice President...      cnn.com   \n",
              "19  (CNN) President Joe Biden is holding his first...      cnn.com   \n",
              "20  (CNN) — President Joe Biden on Friday condemne...      cnn.com   \n",
              "21  (CNN) — President Joe Biden has ordered the Am...      cnn.com   \n",
              "22  (CNN) Former late night talk show host Jay Len...      cnn.com   \n",
              "23  Peniel E. Joseph is the Barbara Jordan chair i...      cnn.com   \n",
              "24  (CNN) — President Joe Biden will meet with Sta...      cnn.com   \n",
              "25  (CNN) — President Joe Biden and Vice President...      cnn.com   \n",
              "26  (CNN) — This week, the surge of unaccompanied ...      cnn.com   \n",
              "27  (CNN) — These sad truths about mass shootings ...      cnn.com   \n",
              "28  (CNN) — A day after the seventh mass shooting ...      cnn.com   \n",
              "29  Roxanne Jones , a founding editor of ESPN Maga...      cnn.com   \n",
              "30  Dominion Voting Systems files $1.6 billion law...      cnn.com   \n",
              "31  (CNN) — Former Transportation Secretary Elaine...      cnn.com   \n",
              "32  (CNN) — Sen. Joe Manchin, a centrist Democrat ...      cnn.com   \n",
              "33  (CNN) An Instacart shopper who entered an Atla...      cnn.com   \n",
              "34  Watch \"AFRAID: Fear in Communities of Color\" a...      cnn.com   \n",
              "35  (CNN) Xiaojie Tan, one of eight people killed ...      cnn.com   \n",
              "36  An Instacart shopper believed he heard someone...      cnn.com   \n",
              "37  Ken Jeong donates $50,000 to Atlanta shooting ...  foxnews.com   \n",
              "38  Left-leaning Hollywood celebrities are calling...  foxnews.com   \n",
              "39  After lunch on Monday, a man walked into a gro...  foxnews.com   \n",
              "40  Brandon Ingram looked invigorated by the sight...  foxnews.com   \n",
              "41  Stephen Colbert spoke out about the two tragic...  foxnews.com   \n",
              "42  \"The View\" co-host Sunny Hostin should look at...  foxnews.com   \n",
              "43  First dogs Champ and Major have returned to th...  foxnews.com   \n",
              "44  Virginia Beach police cannot determine a disgr...  foxnews.com   \n",
              "45  Atlanta police on Wednesday arrested a man aft...  foxnews.com   \n",
              "46  Contact Us This material may not be published,...  foxnews.com   \n",
              "47  We’ve all seen this movie way too many times.A...  foxnews.com   \n",
              "48  Home COVID-19 10 times MSNBC’s Joy Reid spread...  foxnews.com   \n",
              "49  Golden State Warriors coach Steve Kerr is unaf...  foxnews.com   \n",
              "50  President Biden took questions from just 10 re...  foxnews.com   \n",
              "51  An employee of the Boulder, Colorado , superma...  foxnews.com   \n",
              "52  An Instacart worker inside an Atlanta grocery ...  foxnews.com   \n",
              "53  The Los Angeles Clippers overcame a tough loss...  foxnews.com   \n",
              "54  A Washington state Democrat said this week tha...  foxnews.com   \n",
              "55  The suspect accused of opening fire inside a c...  foxnews.com   \n",
              "56  Punchbowl News founder Jake Sherman is the lat...  foxnews.com   \n",
              "57  Police scanner audio from Monday’s mass shooti...  foxnews.com   \n",
              "58  Rep. Ilhan Omar , D-Minn., faced backlash onli...  foxnews.com   \n",
              "\n",
              "           key_words  \n",
              "0   atlanta shooting  \n",
              "1   atlanta shooting  \n",
              "2   atlanta shooting  \n",
              "3   atlanta shooting  \n",
              "4   atlanta shooting  \n",
              "5   atlanta shooting  \n",
              "6   atlanta shooting  \n",
              "7   atlanta shooting  \n",
              "8   atlanta shooting  \n",
              "9   atlanta shooting  \n",
              "10  atlanta shooting  \n",
              "11  atlanta shooting  \n",
              "12  atlanta shooting  \n",
              "13  atlanta shooting  \n",
              "14  atlanta shooting  \n",
              "15  atlanta shooting  \n",
              "16  atlanta shooting  \n",
              "17  atlanta shooting  \n",
              "18  atlanta shooting  \n",
              "19  atlanta shooting  \n",
              "20  atlanta shooting  \n",
              "21  atlanta shooting  \n",
              "22  atlanta shooting  \n",
              "23  atlanta shooting  \n",
              "24  atlanta shooting  \n",
              "25  atlanta shooting  \n",
              "26  atlanta shooting  \n",
              "27  atlanta shooting  \n",
              "28  atlanta shooting  \n",
              "29  atlanta shooting  \n",
              "30  atlanta shooting  \n",
              "31  atlanta shooting  \n",
              "32  atlanta shooting  \n",
              "33  atlanta shooting  \n",
              "34  atlanta shooting  \n",
              "35  atlanta shooting  \n",
              "36  atlanta shooting  \n",
              "37  atlanta shooting  \n",
              "38  atlanta shooting  \n",
              "39  atlanta shooting  \n",
              "40  atlanta shooting  \n",
              "41  atlanta shooting  \n",
              "42  atlanta shooting  \n",
              "43  atlanta shooting  \n",
              "44  atlanta shooting  \n",
              "45  atlanta shooting  \n",
              "46  atlanta shooting  \n",
              "47  atlanta shooting  \n",
              "48  atlanta shooting  \n",
              "49  atlanta shooting  \n",
              "50  atlanta shooting  \n",
              "51  atlanta shooting  \n",
              "52  atlanta shooting  \n",
              "53  atlanta shooting  \n",
              "54  atlanta shooting  \n",
              "55  atlanta shooting  \n",
              "56  atlanta shooting  \n",
              "57  atlanta shooting  \n",
              "58  atlanta shooting  "
            ]
          },
          "metadata": {
            "tags": []
          },
          "execution_count": 135
        }
      ]
    },
    {
      "cell_type": "markdown",
      "metadata": {
        "id": "JFAJZ8mdb70i"
      },
      "source": [
        "# Machine Learning Starts from Here"
      ]
    },
    {
      "cell_type": "code",
      "metadata": {
        "id": "UDGxfpvkb70j",
        "outputId": "d515d827-2a3e-4792-f8b9-b848e054b54c"
      },
      "source": [
        "import logging\n",
        "import numpy as np\n",
        "from numpy import random\n",
        "import gensim\n",
        "import nltk\n",
        "from sklearn.model_selection import train_test_split\n",
        "from sklearn.feature_extraction.text import CountVectorizer, TfidfVectorizer\n",
        "from sklearn.metrics import accuracy_score, confusion_matrix\n",
        "import matplotlib.pyplot as plt\n",
        "from nltk.corpus import stopwords\n",
        "import re\n",
        "from bs4 import BeautifulSoup\n",
        "%matplotlib inline"
      ],
      "execution_count": null,
      "outputs": [
        {
          "output_type": "stream",
          "text": [
            "/Users/sck/opt/anaconda3/lib/python3.8/site-packages/gensim/similarities/__init__.py:15: UserWarning: The gensim.similarities.levenshtein submodule is disabled, because the optional Levenshtein package <https://pypi.org/project/python-Levenshtein/> is unavailable. Install Levenhstein (e.g. `pip install python-Levenshtein`) to suppress this warning.\n",
            "  warnings.warn(msg)\n"
          ],
          "name": "stderr"
        }
      ]
    },
    {
      "cell_type": "code",
      "metadata": {
        "id": "dhoYjvTxb70l",
        "outputId": "3c909cd6-d3ec-4a33-cbf0-62ea93d04044"
      },
      "source": [
        "nltk.download('stopwords')"
      ],
      "execution_count": null,
      "outputs": [
        {
          "output_type": "stream",
          "text": [
            "[nltk_data] Downloading package stopwords to /Users/sck/nltk_data...\n",
            "[nltk_data]   Package stopwords is already up-to-date!\n"
          ],
          "name": "stderr"
        },
        {
          "output_type": "execute_result",
          "data": {
            "text/plain": [
              "True"
            ]
          },
          "metadata": {
            "tags": []
          },
          "execution_count": 8
        }
      ]
    },
    {
      "cell_type": "code",
      "metadata": {
        "id": "PacrDKZqb70m"
      },
      "source": [
        "df = output"
      ],
      "execution_count": null,
      "outputs": []
    },
    {
      "cell_type": "markdown",
      "metadata": {
        "id": "e9S_jbnAb70m"
      },
      "source": [
        "### We define a function to clean the data\n",
        "A single function will do all the work for us. We also want to remove words like 'cnn', 'fox' or 'foxnews' since they will skew the results"
      ]
    },
    {
      "cell_type": "code",
      "metadata": {
        "id": "rv65YQY3b70m"
      },
      "source": [
        "REPLACE_BY_SPACE_RE = re.compile('[/(){}\\[\\]\\|@,;]')\n",
        "BAD_SYMBOLS_RE = re.compile('[^0-9a-z #+_]')\n",
        "STOPWORDS = set(stopwords.words('english'))\n",
        "\n",
        "def clean_text(text):\n",
        "    \"\"\"\n",
        "        text: a string\n",
        "        \n",
        "        return: modified initial string\n",
        "    \"\"\"\n",
        "    text = BeautifulSoup(text, \"lxml\").text # HTML decoding\n",
        "    text = text.lower() # lowercase text\n",
        "    text = REPLACE_BY_SPACE_RE.sub(' ', text) # replace REPLACE_BY_SPACE_RE symbols by space in text\n",
        "    text = BAD_SYMBOLS_RE.sub('', text) # delete symbols which are in BAD_SYMBOLS_RE from text\n",
        "    text = text.replace('cnn', '')\n",
        "    text = text.replace('fox', '')\n",
        "    text = text.replace('foxnews', '')\n",
        "    text = ' '.join(word for word in text.split() if word not in STOPWORDS) # delete stopwords from text\n",
        "    return text"
      ],
      "execution_count": null,
      "outputs": []
    },
    {
      "cell_type": "code",
      "metadata": {
        "id": "_zoC0U7Hb70m"
      },
      "source": [
        "# The column name that contains the articles is 'text'. We apply our cleaning function onto this column.\n",
        "df['text'] = df['text'].apply(clean_text)\n",
        "print(df['text'][0])"
      ],
      "execution_count": null,
      "outputs": []
    },
    {
      "cell_type": "code",
      "metadata": {
        "id": "Nx5RTxtAb70p"
      },
      "source": [
        "z = 53\n",
        "print(df['site'][z])\n",
        "print(df['text'][z])"
      ],
      "execution_count": null,
      "outputs": []
    },
    {
      "cell_type": "markdown",
      "metadata": {
        "id": "DE2NiwUlb70v"
      },
      "source": [
        "# Training the Model"
      ]
    },
    {
      "cell_type": "markdown",
      "metadata": {
        "id": "oul9m4Oxb70w"
      },
      "source": [
        "## Naive Bayes Classifier for Multinomial Models\n",
        "Multinomial is for models where there are more than two classes. Though, in our current case there are only two classes, Fox News and CNN, the model is general to work on multi classes too."
      ]
    },
    {
      "cell_type": "markdown",
      "metadata": {
        "id": "_Mk-z4eLb70w"
      },
      "source": [
        "In Naive Bayes classification, we calculate the prior probabilities with finding the probability of seeing a word in a certain class, given the number of times that word appears in that class. We do this for every class. These are also called likelihoods. Then we compute the posterior probabilities of each entries and classify according to this."
      ]
    },
    {
      "cell_type": "markdown",
      "metadata": {
        "id": "wMFp1Ed0b70w"
      },
      "source": [
        "### Pros and Cons\n",
        "The main feature of Naive Bayes classification is that it assumes that all features, like words, are independent. This is not a realistic assumption in our case since words are not independent from each other. But it is a very speedy classification method."
      ]
    },
    {
      "cell_type": "code",
      "metadata": {
        "id": "BZAxmlHvb70x"
      },
      "source": [
        "col_list = list(df['site'].unique())"
      ],
      "execution_count": null,
      "outputs": []
    },
    {
      "cell_type": "code",
      "metadata": {
        "id": "PzOv8fZSb70x"
      },
      "source": [
        "df = df.sample(frac = 1)\n",
        "X = df.text\n",
        "y = df.site\n",
        "X_train, X_test, Y_train, Y_test = train_test_split(X, y, test_size=0.3, random_state = 42)"
      ],
      "execution_count": null,
      "outputs": []
    },
    {
      "cell_type": "code",
      "metadata": {
        "id": "39qChKDnb70x",
        "outputId": "b10bc7b3-989c-44a3-80c6-2be7e963fc53"
      },
      "source": [
        "type(X_test)"
      ],
      "execution_count": null,
      "outputs": [
        {
          "output_type": "execute_result",
          "data": {
            "text/plain": [
              "pandas.core.series.Series"
            ]
          },
          "metadata": {
            "tags": []
          },
          "execution_count": 29
        }
      ]
    },
    {
      "cell_type": "code",
      "metadata": {
        "id": "ped7w55Lb70y",
        "outputId": "1cdd8e1c-cf28-4e20-8024-9c32481beee0"
      },
      "source": [
        "from sklearn.naive_bayes import MultinomialNB\n",
        "from sklearn.pipeline import Pipeline\n",
        "from sklearn.feature_extraction.text import TfidfTransformer\n",
        "\n",
        "nb = Pipeline([('vect', CountVectorizer()),\n",
        "               ('tfidf', TfidfTransformer()),\n",
        "               ('clf', MultinomialNB()),\n",
        "              ])\n",
        "nb.fit(X_train, Y_train)"
      ],
      "execution_count": null,
      "outputs": [
        {
          "output_type": "execute_result",
          "data": {
            "text/plain": [
              "Pipeline(steps=[('vect', CountVectorizer()), ('tfidf', TfidfTransformer()),\n",
              "                ('clf', MultinomialNB())])"
            ]
          },
          "metadata": {
            "tags": []
          },
          "execution_count": 30
        }
      ]
    },
    {
      "cell_type": "code",
      "metadata": {
        "id": "9_wjTZGQb70y",
        "outputId": "15734ab8-40d7-46f2-f47a-bf1aa98a914f"
      },
      "source": [
        "%%time\n",
        "from sklearn.metrics import classification_report\n",
        "Y_pred = nb.predict(X_test)\n",
        "\n",
        "print('accuracy %s' % accuracy_score(Y_pred, Y_test))\n",
        "print(classification_report(Y_test, Y_pred,target_names=col_list))"
      ],
      "execution_count": null,
      "outputs": [
        {
          "output_type": "stream",
          "text": [
            "accuracy 0.6111111111111112\n",
            "              precision    recall  f1-score   support\n",
            "\n",
            "     cnn.com       0.61      1.00      0.76        11\n",
            " foxnews.com       0.00      0.00      0.00         7\n",
            "\n",
            "    accuracy                           0.61        18\n",
            "   macro avg       0.31      0.50      0.38        18\n",
            "weighted avg       0.37      0.61      0.46        18\n",
            "\n",
            "CPU times: user 27.5 ms, sys: 6.83 ms, total: 34.3 ms\n",
            "Wall time: 72.5 ms\n"
          ],
          "name": "stdout"
        },
        {
          "output_type": "stream",
          "text": [
            "/Users/sck/opt/anaconda3/lib/python3.8/site-packages/sklearn/metrics/_classification.py:1221: UndefinedMetricWarning: Precision and F-score are ill-defined and being set to 0.0 in labels with no predicted samples. Use `zero_division` parameter to control this behavior.\n",
            "  _warn_prf(average, modifier, msg_start, len(result))\n"
          ],
          "name": "stderr"
        }
      ]
    },
    {
      "cell_type": "markdown",
      "metadata": {
        "id": "sg6i76M0b70z"
      },
      "source": [
        "We achieved 61% accuracy which is too good I think."
      ]
    },
    {
      "cell_type": "markdown",
      "metadata": {
        "id": "18g_4RVJb700"
      },
      "source": [
        "## Linear Support Vector Machine"
      ]
    },
    {
      "cell_type": "markdown",
      "metadata": {
        "id": "i6o8sczbb700"
      },
      "source": [
        "SVM uses vectors to draw decision boundries between vectors. This means that the text has to be vectorized to be used with a SVM."
      ]
    },
    {
      "cell_type": "code",
      "metadata": {
        "id": "WN-7FzXeb700",
        "outputId": "e4b5d7d6-cde1-4e12-973b-c111f76c8e0b"
      },
      "source": [
        "from sklearn.linear_model import SGDClassifier\n",
        "\n",
        "sgd = Pipeline([('vect', CountVectorizer()),\n",
        "                ('tfidf', TfidfTransformer()),\n",
        "                ('clf', SGDClassifier(loss='hinge', penalty='l2',alpha=1e-3, random_state=42, max_iter=5, tol=None)),\n",
        "               ])\n",
        "sgd.fit(X_train, Y_train)"
      ],
      "execution_count": null,
      "outputs": [
        {
          "output_type": "execute_result",
          "data": {
            "text/plain": [
              "Pipeline(steps=[('vect', CountVectorizer()), ('tfidf', TfidfTransformer()),\n",
              "                ('clf',\n",
              "                 SGDClassifier(alpha=0.001, max_iter=5, random_state=42,\n",
              "                               tol=None))])"
            ]
          },
          "metadata": {
            "tags": []
          },
          "execution_count": 32
        }
      ]
    },
    {
      "cell_type": "code",
      "metadata": {
        "id": "q6cmruFob700",
        "outputId": "9a88ed04-3704-4362-9622-5922b4f8ed89"
      },
      "source": [
        "%%time\n",
        "\n",
        "Y_pred = sgd.predict(X_test)\n",
        "\n",
        "print('accuracy %s' % accuracy_score(Y_pred, Y_test))\n",
        "print(classification_report(Y_test, Y_pred,target_names=col_list))"
      ],
      "execution_count": null,
      "outputs": [
        {
          "output_type": "stream",
          "text": [
            "accuracy 0.7222222222222222\n",
            "              precision    recall  f1-score   support\n",
            "\n",
            "     cnn.com       0.75      0.82      0.78        11\n",
            " foxnews.com       0.67      0.57      0.62         7\n",
            "\n",
            "    accuracy                           0.72        18\n",
            "   macro avg       0.71      0.69      0.70        18\n",
            "weighted avg       0.72      0.72      0.72        18\n",
            "\n",
            "CPU times: user 18.1 ms, sys: 1.91 ms, total: 20 ms\n",
            "Wall time: 25.3 ms\n"
          ],
          "name": "stdout"
        }
      ]
    },
    {
      "cell_type": "markdown",
      "metadata": {
        "id": "hrgTtff6b701"
      },
      "source": [
        "The accuracy is 72%, which is better."
      ]
    },
    {
      "cell_type": "markdown",
      "metadata": {
        "id": "bVc3bmq1b701"
      },
      "source": [
        "## Logistic Regression"
      ]
    },
    {
      "cell_type": "code",
      "metadata": {
        "id": "AiTcETU9b702",
        "outputId": "bbd48858-20e9-4b12-9ce2-9bd4301785de"
      },
      "source": [
        "from sklearn.linear_model import LogisticRegression\n",
        "\n",
        "logreg = Pipeline([('vect', CountVectorizer()),\n",
        "                ('tfidf', TfidfTransformer()),\n",
        "                ('clf', LogisticRegression(n_jobs=1, C=1e5)),\n",
        "               ])\n",
        "logreg.fit(X_train, Y_train)"
      ],
      "execution_count": null,
      "outputs": [
        {
          "output_type": "execute_result",
          "data": {
            "text/plain": [
              "Pipeline(steps=[('vect', CountVectorizer()), ('tfidf', TfidfTransformer()),\n",
              "                ('clf', LogisticRegression(C=100000.0, n_jobs=1))])"
            ]
          },
          "metadata": {
            "tags": []
          },
          "execution_count": 35
        }
      ]
    },
    {
      "cell_type": "code",
      "metadata": {
        "id": "fULU59Y4b702",
        "outputId": "0e9008a6-1db1-40db-8192-6100c6463ef3"
      },
      "source": [
        "%%time\n",
        "\n",
        "Y_pred = logreg.predict(X_test)\n",
        "\n",
        "print('accuracy %s' % accuracy_score(Y_pred, Y_test))\n",
        "print(classification_report(Y_test, Y_pred,target_names=col_list))"
      ],
      "execution_count": null,
      "outputs": [
        {
          "output_type": "stream",
          "text": [
            "accuracy 0.7777777777777778\n",
            "              precision    recall  f1-score   support\n",
            "\n",
            "     cnn.com       0.82      0.82      0.82        11\n",
            " foxnews.com       0.71      0.71      0.71         7\n",
            "\n",
            "    accuracy                           0.78        18\n",
            "   macro avg       0.77      0.77      0.77        18\n",
            "weighted avg       0.78      0.78      0.78        18\n",
            "\n",
            "CPU times: user 22.7 ms, sys: 2.78 ms, total: 25.5 ms\n",
            "Wall time: 32.3 ms\n"
          ],
          "name": "stdout"
        }
      ]
    },
    {
      "cell_type": "markdown",
      "metadata": {
        "id": "fiEGA80Eb703"
      },
      "source": [
        "77% accuracy which is even better"
      ]
    },
    {
      "cell_type": "markdown",
      "metadata": {
        "id": "K2-qaXL6b703"
      },
      "source": [
        "## With Python Deep Learning Library Keras"
      ]
    },
    {
      "cell_type": "code",
      "metadata": {
        "id": "2lAZRVtkb703",
        "outputId": "32e3bc72-7d55-4407-fa48-21ad2a490d3b"
      },
      "source": [
        "from tensorflow import keras\n",
        "from keras.models import Sequential\n",
        "from keras import layers\n",
        "from keras.layers import Dense, Activation, Dropout\n",
        "from keras.preprocessing import text, sequence\n",
        "from sklearn.preprocessing import LabelEncoder\n",
        "from keras import utils\n",
        "from keras.backend import clear_session\n",
        "\n",
        "# This line shuffles the rows\n",
        "df = df.sample(frac = 1)\n",
        "\n",
        "train_size = int(len(df) * .8)\n",
        "train_text = df['text'][:train_size]\n",
        "train_site = df['site'][:train_size]\n",
        "\n",
        "test_text = df['text'][train_size:]\n",
        "test_site = df['site'][train_size:]\n",
        "\n",
        "max_words = 1000\n",
        "tokenize = text.Tokenizer(num_words=max_words, char_level=False)\n",
        "tokenize.fit_on_texts(train_text) # only fit on train\n",
        "\n",
        "x_train = tokenize.texts_to_matrix(train_text)\n",
        "x_test = tokenize.texts_to_matrix(test_text)\n",
        "\n",
        "encoder = LabelEncoder()\n",
        "encoder.fit(train_site)\n",
        "y_train = encoder.transform(train_site)\n",
        "y_test = encoder.transform(test_site)\n",
        "\n",
        "\n",
        "num_classes = np.max(y_train) + 1\n",
        "y_train = utils.to_categorical(y_train, num_classes)\n",
        "y_test = utils.to_categorical(y_test, num_classes)\n",
        "\n",
        "batch_size = 10\n",
        "epochs = 100\n",
        "\n",
        "clear_session()\n",
        "\n",
        "# The model\n",
        "model = Sequential()\n",
        "model.add(Dense(10, input_shape=(max_words,)))\n",
        "model.add(Activation('relu'))\n",
        "model.add(Dropout(0.5))\n",
        "model.add(Dense(num_classes))\n",
        "model.add(Activation('softmax'))\n",
        "\n",
        "model.compile(loss='categorical_crossentropy',\n",
        "              optimizer='adam',\n",
        "              metrics=['accuracy'])\n",
        "              \n",
        "history = model.fit(x_train, y_train,\n",
        "                    batch_size=batch_size,\n",
        "                    epochs=epochs,\n",
        "                    verbose=1,\n",
        "                    shuffle=True,\n",
        "                    validation_split=0.1)\n",
        "\n",
        "#score = model.evaluate(x_test, y_test,\n",
        "#                       batch_size=batch_size, verbose=1)\n",
        "\n",
        "loss, accuracy = model.evaluate(x_train, y_train, batch_size=batch_size, verbose=False)\n",
        "print(\"Training Accuracy: {:.4f}\".format(accuracy))\n",
        "loss, accuracy = model.evaluate(x_test, y_test, batch_size=batch_size, verbose=False)\n",
        "print(\"Testing Accuracy:  {:.4f}\".format(accuracy))"
      ],
      "execution_count": null,
      "outputs": [
        {
          "output_type": "stream",
          "text": [
            "Epoch 1/100\n",
            "5/5 [==============================] - 1s 98ms/step - loss: 0.8955 - accuracy: 0.5097 - val_loss: 0.7022 - val_accuracy: 0.6000\n",
            "Epoch 2/100\n",
            "5/5 [==============================] - 0s 17ms/step - loss: 0.6684 - accuracy: 0.5956 - val_loss: 0.5443 - val_accuracy: 0.6000\n",
            "Epoch 3/100\n",
            "5/5 [==============================] - 0s 16ms/step - loss: 0.5166 - accuracy: 0.7558 - val_loss: 0.4816 - val_accuracy: 0.8000\n",
            "Epoch 4/100\n",
            "5/5 [==============================] - 0s 16ms/step - loss: 0.5403 - accuracy: 0.6522 - val_loss: 0.4535 - val_accuracy: 0.8000\n",
            "Epoch 5/100\n",
            "5/5 [==============================] - 0s 19ms/step - loss: 0.4509 - accuracy: 0.8171 - val_loss: 0.4561 - val_accuracy: 0.8000\n",
            "Epoch 6/100\n",
            "5/5 [==============================] - 0s 18ms/step - loss: 0.4590 - accuracy: 0.7647 - val_loss: 0.4617 - val_accuracy: 0.8000\n",
            "Epoch 7/100\n",
            "5/5 [==============================] - 0s 19ms/step - loss: 0.4258 - accuracy: 0.8347 - val_loss: 0.4445 - val_accuracy: 0.8000\n",
            "Epoch 8/100\n",
            "5/5 [==============================] - 0s 16ms/step - loss: 0.2935 - accuracy: 0.8337 - val_loss: 0.4137 - val_accuracy: 0.8000\n",
            "Epoch 9/100\n",
            "5/5 [==============================] - 0s 17ms/step - loss: 0.3480 - accuracy: 0.7948 - val_loss: 0.3917 - val_accuracy: 0.8000\n",
            "Epoch 10/100\n",
            "5/5 [==============================] - 0s 23ms/step - loss: 0.3230 - accuracy: 0.9079 - val_loss: 0.3652 - val_accuracy: 0.8000\n",
            "Epoch 11/100\n",
            "5/5 [==============================] - 0s 22ms/step - loss: 0.2723 - accuracy: 0.9054 - val_loss: 0.3516 - val_accuracy: 0.8000\n",
            "Epoch 12/100\n",
            "5/5 [==============================] - 0s 15ms/step - loss: 0.2250 - accuracy: 0.9526 - val_loss: 0.3404 - val_accuracy: 0.8000\n",
            "Epoch 13/100\n",
            "5/5 [==============================] - 0s 15ms/step - loss: 0.2808 - accuracy: 0.8720 - val_loss: 0.3232 - val_accuracy: 0.8000\n",
            "Epoch 14/100\n",
            "5/5 [==============================] - 0s 16ms/step - loss: 0.1907 - accuracy: 0.9183 - val_loss: 0.3163 - val_accuracy: 0.8000\n",
            "Epoch 15/100\n",
            "5/5 [==============================] - 0s 16ms/step - loss: 0.2823 - accuracy: 0.8097 - val_loss: 0.3164 - val_accuracy: 0.8000\n",
            "Epoch 16/100\n",
            "5/5 [==============================] - 0s 18ms/step - loss: 0.1936 - accuracy: 0.9563 - val_loss: 0.3129 - val_accuracy: 0.8000\n",
            "Epoch 17/100\n",
            "5/5 [==============================] - 0s 24ms/step - loss: 0.2565 - accuracy: 0.8115 - val_loss: 0.3041 - val_accuracy: 0.8000\n",
            "Epoch 18/100\n",
            "5/5 [==============================] - 0s 18ms/step - loss: 0.1928 - accuracy: 0.9758 - val_loss: 0.2936 - val_accuracy: 0.8000\n",
            "Epoch 19/100\n",
            "5/5 [==============================] - 0s 29ms/step - loss: 0.2134 - accuracy: 0.9137 - val_loss: 0.2864 - val_accuracy: 0.8000\n",
            "Epoch 20/100\n",
            "5/5 [==============================] - 0s 21ms/step - loss: 0.1423 - accuracy: 0.9823 - val_loss: 0.2781 - val_accuracy: 0.8000\n",
            "Epoch 21/100\n",
            "5/5 [==============================] - 0s 33ms/step - loss: 0.1889 - accuracy: 1.0000 - val_loss: 0.2685 - val_accuracy: 0.8000\n",
            "Epoch 22/100\n",
            "5/5 [==============================] - 0s 32ms/step - loss: 0.1596 - accuracy: 0.9331 - val_loss: 0.2631 - val_accuracy: 0.8000\n",
            "Epoch 23/100\n",
            "5/5 [==============================] - 0s 19ms/step - loss: 0.1318 - accuracy: 0.9147 - val_loss: 0.2604 - val_accuracy: 0.8000\n",
            "Epoch 24/100\n",
            "5/5 [==============================] - 0s 22ms/step - loss: 0.1257 - accuracy: 0.9619 - val_loss: 0.2562 - val_accuracy: 0.8000\n",
            "Epoch 25/100\n",
            "5/5 [==============================] - 0s 18ms/step - loss: 0.1028 - accuracy: 1.0000 - val_loss: 0.2538 - val_accuracy: 0.8000\n",
            "Epoch 26/100\n",
            "5/5 [==============================] - 0s 20ms/step - loss: 0.1959 - accuracy: 0.9349 - val_loss: 0.2567 - val_accuracy: 0.8000\n",
            "Epoch 27/100\n",
            "5/5 [==============================] - 0s 18ms/step - loss: 0.1323 - accuracy: 0.9573 - val_loss: 0.2585 - val_accuracy: 0.8000\n",
            "Epoch 28/100\n",
            "5/5 [==============================] - 0s 23ms/step - loss: 0.1041 - accuracy: 0.9498 - val_loss: 0.2519 - val_accuracy: 0.8000\n",
            "Epoch 29/100\n",
            "5/5 [==============================] - 0s 17ms/step - loss: 0.1222 - accuracy: 0.9276 - val_loss: 0.2449 - val_accuracy: 0.8000\n",
            "Epoch 30/100\n",
            "5/5 [==============================] - 0s 16ms/step - loss: 0.0842 - accuracy: 1.0000 - val_loss: 0.2370 - val_accuracy: 0.8000\n",
            "Epoch 31/100\n",
            "5/5 [==============================] - 0s 15ms/step - loss: 0.1028 - accuracy: 0.9879 - val_loss: 0.2290 - val_accuracy: 0.8000\n",
            "Epoch 32/100\n",
            "5/5 [==============================] - 0s 19ms/step - loss: 0.0908 - accuracy: 1.0000 - val_loss: 0.2213 - val_accuracy: 0.8000\n",
            "Epoch 33/100\n",
            "5/5 [==============================] - 0s 17ms/step - loss: 0.1372 - accuracy: 0.8937 - val_loss: 0.2246 - val_accuracy: 0.8000\n",
            "Epoch 34/100\n",
            "5/5 [==============================] - 0s 15ms/step - loss: 0.0419 - accuracy: 0.9879 - val_loss: 0.2252 - val_accuracy: 0.8000\n",
            "Epoch 35/100\n",
            "5/5 [==============================] - 0s 15ms/step - loss: 0.1642 - accuracy: 1.0000 - val_loss: 0.2233 - val_accuracy: 0.8000\n",
            "Epoch 36/100\n",
            "5/5 [==============================] - 0s 20ms/step - loss: 0.0820 - accuracy: 0.9573 - val_loss: 0.2252 - val_accuracy: 0.8000\n",
            "Epoch 37/100\n",
            "5/5 [==============================] - 0s 22ms/step - loss: 0.1003 - accuracy: 0.9563 - val_loss: 0.2259 - val_accuracy: 0.8000\n",
            "Epoch 38/100\n",
            "5/5 [==============================] - 0s 19ms/step - loss: 0.0657 - accuracy: 0.9740 - val_loss: 0.2341 - val_accuracy: 0.8000\n",
            "Epoch 39/100\n",
            "5/5 [==============================] - 0s 17ms/step - loss: 0.1034 - accuracy: 0.9879 - val_loss: 0.2416 - val_accuracy: 0.8000\n",
            "Epoch 40/100\n",
            "5/5 [==============================] - 0s 16ms/step - loss: 0.0886 - accuracy: 1.0000 - val_loss: 0.2544 - val_accuracy: 0.8000\n",
            "Epoch 41/100\n",
            "5/5 [==============================] - 0s 16ms/step - loss: 0.0775 - accuracy: 0.9359 - val_loss: 0.2652 - val_accuracy: 0.8000\n",
            "Epoch 42/100\n",
            "5/5 [==============================] - 0s 17ms/step - loss: 0.1146 - accuracy: 0.9740 - val_loss: 0.2664 - val_accuracy: 0.8000\n",
            "Epoch 43/100\n",
            "5/5 [==============================] - 0s 19ms/step - loss: 0.1154 - accuracy: 0.9740 - val_loss: 0.2625 - val_accuracy: 0.8000\n",
            "Epoch 44/100\n",
            "5/5 [==============================] - 0s 15ms/step - loss: 0.1151 - accuracy: 0.9498 - val_loss: 0.2558 - val_accuracy: 0.8000\n",
            "Epoch 45/100\n",
            "5/5 [==============================] - 0s 18ms/step - loss: 0.0509 - accuracy: 1.0000 - val_loss: 0.2504 - val_accuracy: 0.8000\n",
            "Epoch 46/100\n",
            "5/5 [==============================] - 0s 19ms/step - loss: 0.0626 - accuracy: 0.9823 - val_loss: 0.2472 - val_accuracy: 0.8000\n",
            "Epoch 47/100\n",
            "5/5 [==============================] - 0s 18ms/step - loss: 0.0591 - accuracy: 1.0000 - val_loss: 0.2522 - val_accuracy: 0.8000\n",
            "Epoch 48/100\n",
            "5/5 [==============================] - 0s 14ms/step - loss: 0.0373 - accuracy: 1.0000 - val_loss: 0.2497 - val_accuracy: 0.8000\n",
            "Epoch 49/100\n",
            "5/5 [==============================] - 0s 18ms/step - loss: 0.1029 - accuracy: 0.9573 - val_loss: 0.2392 - val_accuracy: 0.8000\n",
            "Epoch 50/100\n",
            "5/5 [==============================] - 0s 15ms/step - loss: 0.0345 - accuracy: 1.0000 - val_loss: 0.2324 - val_accuracy: 0.8000\n",
            "Epoch 51/100\n",
            "5/5 [==============================] - 0s 16ms/step - loss: 0.0653 - accuracy: 0.9647 - val_loss: 0.2286 - val_accuracy: 0.8000\n",
            "Epoch 52/100\n",
            "5/5 [==============================] - 0s 21ms/step - loss: 0.0901 - accuracy: 0.9405 - val_loss: 0.2244 - val_accuracy: 0.8000\n",
            "Epoch 53/100\n",
            "5/5 [==============================] - 0s 17ms/step - loss: 0.0630 - accuracy: 1.0000 - val_loss: 0.2252 - val_accuracy: 0.8000\n",
            "Epoch 54/100\n",
            "5/5 [==============================] - 0s 18ms/step - loss: 0.0845 - accuracy: 1.0000 - val_loss: 0.2283 - val_accuracy: 0.8000\n",
            "Epoch 55/100\n",
            "5/5 [==============================] - 0s 22ms/step - loss: 0.1578 - accuracy: 0.9563 - val_loss: 0.2423 - val_accuracy: 0.8000\n",
            "Epoch 56/100\n",
            "5/5 [==============================] - 0s 24ms/step - loss: 0.0953 - accuracy: 0.9740 - val_loss: 0.2476 - val_accuracy: 0.8000\n",
            "Epoch 57/100\n",
            "5/5 [==============================] - 0s 27ms/step - loss: 0.0157 - accuracy: 1.0000 - val_loss: 0.2477 - val_accuracy: 0.8000\n",
            "Epoch 58/100\n",
            "5/5 [==============================] - 0s 39ms/step - loss: 0.0819 - accuracy: 0.9619 - val_loss: 0.2369 - val_accuracy: 0.8000\n",
            "Epoch 59/100\n",
            "5/5 [==============================] - 0s 32ms/step - loss: 0.0552 - accuracy: 1.0000 - val_loss: 0.2307 - val_accuracy: 0.8000\n",
            "Epoch 60/100\n",
            "5/5 [==============================] - 0s 20ms/step - loss: 0.0473 - accuracy: 0.9823 - val_loss: 0.2229 - val_accuracy: 0.8000\n",
            "Epoch 61/100\n",
            "5/5 [==============================] - 0s 16ms/step - loss: 0.0608 - accuracy: 0.9740 - val_loss: 0.2204 - val_accuracy: 0.8000\n",
            "Epoch 62/100\n",
            "5/5 [==============================] - 0s 14ms/step - loss: 0.0953 - accuracy: 0.9494 - val_loss: 0.2233 - val_accuracy: 0.8000\n",
            "Epoch 63/100\n",
            "5/5 [==============================] - 0s 17ms/step - loss: 0.0545 - accuracy: 0.9573 - val_loss: 0.2256 - val_accuracy: 0.8000\n",
            "Epoch 64/100\n",
            "5/5 [==============================] - 0s 21ms/step - loss: 0.0768 - accuracy: 0.9192 - val_loss: 0.2319 - val_accuracy: 0.8000\n",
            "Epoch 65/100\n",
            "5/5 [==============================] - 0s 23ms/step - loss: 0.0701 - accuracy: 0.9563 - val_loss: 0.2345 - val_accuracy: 0.8000\n",
            "Epoch 66/100\n",
            "5/5 [==============================] - 0s 22ms/step - loss: 0.0768 - accuracy: 0.9573 - val_loss: 0.2327 - val_accuracy: 0.8000\n",
            "Epoch 67/100\n",
            "5/5 [==============================] - 0s 18ms/step - loss: 0.0533 - accuracy: 0.9823 - val_loss: 0.2343 - val_accuracy: 0.8000\n",
            "Epoch 68/100\n",
            "5/5 [==============================] - 0s 23ms/step - loss: 0.0141 - accuracy: 0.9921 - val_loss: 0.2370 - val_accuracy: 0.8000\n",
            "Epoch 69/100\n",
            "5/5 [==============================] - 0s 23ms/step - loss: 0.0851 - accuracy: 1.0000 - val_loss: 0.2374 - val_accuracy: 0.8000\n",
            "Epoch 70/100\n",
            "5/5 [==============================] - 0s 24ms/step - loss: 0.0586 - accuracy: 0.9573 - val_loss: 0.2353 - val_accuracy: 0.8000\n",
            "Epoch 71/100\n",
            "5/5 [==============================] - 0s 29ms/step - loss: 0.0136 - accuracy: 1.0000 - val_loss: 0.2346 - val_accuracy: 0.8000\n",
            "Epoch 72/100\n",
            "5/5 [==============================] - 0s 30ms/step - loss: 0.0839 - accuracy: 0.9452 - val_loss: 0.2330 - val_accuracy: 0.8000\n",
            "Epoch 73/100\n",
            "5/5 [==============================] - 0s 17ms/step - loss: 0.0697 - accuracy: 0.9647 - val_loss: 0.2353 - val_accuracy: 0.8000\n",
            "Epoch 74/100\n",
            "5/5 [==============================] - 0s 16ms/step - loss: 0.0255 - accuracy: 1.0000 - val_loss: 0.2352 - val_accuracy: 0.8000\n",
            "Epoch 75/100\n",
            "5/5 [==============================] - 0s 17ms/step - loss: 0.0912 - accuracy: 0.9619 - val_loss: 0.2331 - val_accuracy: 0.8000\n",
            "Epoch 76/100\n",
            "5/5 [==============================] - 0s 18ms/step - loss: 0.0891 - accuracy: 0.9387 - val_loss: 0.2332 - val_accuracy: 0.8000\n",
            "Epoch 77/100\n",
            "5/5 [==============================] - 0s 15ms/step - loss: 0.0408 - accuracy: 1.0000 - val_loss: 0.2319 - val_accuracy: 0.8000\n",
            "Epoch 78/100\n",
            "5/5 [==============================] - 0s 16ms/step - loss: 0.0816 - accuracy: 0.9276 - val_loss: 0.2305 - val_accuracy: 0.8000\n",
            "Epoch 79/100\n",
            "5/5 [==============================] - 0s 17ms/step - loss: 0.0666 - accuracy: 1.0000 - val_loss: 0.2309 - val_accuracy: 0.8000\n",
            "Epoch 80/100\n",
            "5/5 [==============================] - 0s 36ms/step - loss: 0.0533 - accuracy: 0.9823 - val_loss: 0.2339 - val_accuracy: 0.8000\n",
            "Epoch 81/100\n",
            "5/5 [==============================] - 0s 24ms/step - loss: 0.0498 - accuracy: 0.9921 - val_loss: 0.2316 - val_accuracy: 0.8000\n",
            "Epoch 82/100\n",
            "5/5 [==============================] - 0s 40ms/step - loss: 0.0253 - accuracy: 1.0000 - val_loss: 0.2286 - val_accuracy: 0.8000\n",
            "Epoch 83/100\n",
            "5/5 [==============================] - 0s 24ms/step - loss: 0.0711 - accuracy: 0.9313 - val_loss: 0.2354 - val_accuracy: 0.8000\n",
            "Epoch 84/100\n",
            "5/5 [==============================] - 0s 34ms/step - loss: 0.0320 - accuracy: 0.9879 - val_loss: 0.2470 - val_accuracy: 0.8000\n",
            "Epoch 85/100\n",
            "5/5 [==============================] - 0s 17ms/step - loss: 0.1045 - accuracy: 0.9573 - val_loss: 0.2590 - val_accuracy: 0.8000\n",
            "Epoch 86/100\n",
            "5/5 [==============================] - 0s 23ms/step - loss: 0.0295 - accuracy: 1.0000 - val_loss: 0.2643 - val_accuracy: 0.8000\n",
            "Epoch 87/100\n",
            "5/5 [==============================] - 0s 17ms/step - loss: 0.0278 - accuracy: 0.9823 - val_loss: 0.2680 - val_accuracy: 0.8000\n",
            "Epoch 88/100\n",
            "5/5 [==============================] - 0s 20ms/step - loss: 0.0779 - accuracy: 0.9313 - val_loss: 0.2691 - val_accuracy: 0.8000\n",
            "Epoch 89/100\n",
            "5/5 [==============================] - 0s 21ms/step - loss: 0.1098 - accuracy: 0.9192 - val_loss: 0.2752 - val_accuracy: 0.8000\n",
            "Epoch 90/100\n",
            "5/5 [==============================] - 0s 15ms/step - loss: 0.0221 - accuracy: 1.0000 - val_loss: 0.2736 - val_accuracy: 0.8000\n",
            "Epoch 91/100\n",
            "5/5 [==============================] - 0s 17ms/step - loss: 0.0940 - accuracy: 0.9397 - val_loss: 0.2719 - val_accuracy: 0.8000\n",
            "Epoch 92/100\n",
            "5/5 [==============================] - 0s 29ms/step - loss: 0.0164 - accuracy: 0.9823 - val_loss: 0.2713 - val_accuracy: 0.8000\n",
            "Epoch 93/100\n",
            "5/5 [==============================] - 0s 36ms/step - loss: 0.0406 - accuracy: 0.9740 - val_loss: 0.2678 - val_accuracy: 0.8000\n",
            "Epoch 94/100\n",
            "5/5 [==============================] - 0s 22ms/step - loss: 0.0747 - accuracy: 0.9573 - val_loss: 0.2630 - val_accuracy: 0.8000\n",
            "Epoch 95/100\n",
            "5/5 [==============================] - 0s 20ms/step - loss: 0.0503 - accuracy: 0.9823 - val_loss: 0.2605 - val_accuracy: 0.8000\n",
            "Epoch 96/100\n",
            "5/5 [==============================] - 0s 20ms/step - loss: 0.0408 - accuracy: 0.9573 - val_loss: 0.2592 - val_accuracy: 0.8000\n",
            "Epoch 97/100\n",
            "5/5 [==============================] - 0s 21ms/step - loss: 0.0317 - accuracy: 1.0000 - val_loss: 0.2575 - val_accuracy: 0.8000\n",
            "Epoch 98/100\n",
            "5/5 [==============================] - 0s 17ms/step - loss: 0.0943 - accuracy: 0.9313 - val_loss: 0.2425 - val_accuracy: 0.8000\n",
            "Epoch 99/100\n",
            "5/5 [==============================] - 0s 17ms/step - loss: 0.0626 - accuracy: 0.9363 - val_loss: 0.2406 - val_accuracy: 0.8000\n",
            "Epoch 100/100\n",
            "5/5 [==============================] - 0s 17ms/step - loss: 0.0747 - accuracy: 0.9823 - val_loss: 0.2687 - val_accuracy: 0.8000\n",
            "Training Accuracy: 0.9787\n",
            "Testing Accuracy:  0.5833\n"
          ],
          "name": "stdout"
        }
      ]
    },
    {
      "cell_type": "code",
      "metadata": {
        "id": "RQs59ePLb703"
      },
      "source": [
        "import matplotlib.pyplot as plt\n",
        "plt.style.use('ggplot')\n",
        "\n",
        "def plot_history(history):\n",
        "    acc = history.history['accuracy']\n",
        "    val_acc = history.history['val_accuracy']\n",
        "    loss = history.history['loss']\n",
        "    val_loss = history.history['val_loss']\n",
        "    x = range(1, len(acc) + 1)\n",
        "\n",
        "    plt.figure(figsize=(12, 5))\n",
        "    plt.subplot(1, 2, 1)\n",
        "    plt.plot(x, acc, 'b', label='Training acc')\n",
        "    plt.plot(x, val_acc, 'r', label='Validation acc')\n",
        "    plt.title('Training and validation accuracy')\n",
        "    plt.legend()\n",
        "    plt.subplot(1, 2, 2)\n",
        "    plt.plot(x, loss, 'b', label='Training loss')\n",
        "    plt.plot(x, val_loss, 'r', label='Validation loss')\n",
        "    plt.title('Training and validation loss')\n",
        "    plt.legend()"
      ],
      "execution_count": null,
      "outputs": []
    },
    {
      "cell_type": "code",
      "metadata": {
        "id": "rEUjAjQeb704",
        "outputId": "e30e0d3e-1e44-4eb7-ff8f-35d1394578b1"
      },
      "source": [
        "plot_history(history)"
      ],
      "execution_count": null,
      "outputs": [
        {
          "output_type": "display_data",
          "data": {
            "image/png": "[encoded data removed]",
            "text/plain": [
              "<Figure size 864x360 with 2 Axes>"
            ]
          },
          "metadata": {
            "tags": []
          }
        }
      ]
    },
    {
      "cell_type": "markdown",
      "metadata": {
        "id": "IBQWxBR_b706"
      },
      "source": [
        "My training accuracy reaches 100% after a bit more than 20 rounds. Validation accuracy is constant at .4, due to the distribution of my labels. I have only two labels in this model.\n",
        "\n",
        "I definetely need to increase my training set. I run my API for one day only, before my free access expired. My validation accuracy is a sign of overfitting."
      ]
    },
    {
      "cell_type": "markdown",
      "metadata": {
        "id": "_U5Lhv7sb707"
      },
      "source": [
        "# Conclusion\n",
        "It is interesting to predict from which news source an article is coming from. People are talking about news sources being biased but letting the machines figure this out is interesting.\n",
        "\n",
        "Although the model can predict the source of an article, we cannot say something about why these news articles are different. There can be different reasons for this. For example, writers of these websites are the same which means that the differences can be due to writers' personal style rather than political inclinations. At the end, we all have a different style of writing. But, it is unlikely that all articles from each of these sources are written by the same person. Therefore, it does give us an idea about other reasons why these articles are classified differently."
      ]
    },
    {
      "cell_type": "code",
      "metadata": {
        "id": "9r2Myl_Mb709"
      },
      "source": [
        ""
      ],
      "execution_count": null,
      "outputs": []
    }
  ]
}